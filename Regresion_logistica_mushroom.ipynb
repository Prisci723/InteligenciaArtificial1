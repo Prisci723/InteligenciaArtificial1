{
  "nbformat": 4,
  "nbformat_minor": 0,
  "metadata": {
    "colab": {
      "provenance": [],
      "authorship_tag": "ABX9TyM7uZBAb8Ymfq54+Ow9dTFv",
      "include_colab_link": true
    },
    "kernelspec": {
      "name": "python3",
      "display_name": "Python 3"
    },
    "language_info": {
      "name": "python"
    }
  },
  "cells": [
    {
      "cell_type": "markdown",
      "metadata": {
        "id": "view-in-github",
        "colab_type": "text"
      },
      "source": [
        "<a href=\"https://colab.research.google.com/github/Prisci723/InteligenciaArtificial1/blob/main/Regresion_logistica_mushroom.ipynb\" target=\"_parent\"><img src=\"https://colab.research.google.com/assets/colab-badge.svg\" alt=\"Open In Colab\"/></a>"
      ]
    },
    {
      "cell_type": "markdown",
      "source": [
        "# Dataset\n",
        "\n",
        "El siguiente dataset cuenta con 18 características relacionadas a la estructura de un hongo, el fin de los datos es demostrar si un hongo es comestible o es venenoso.\n",
        "El enlace al dataset original es: https://archive.ics.uci.edu/dataset/848/secondary+mushroom+dataset\n",
        "\n",
        "Los features utilizados del dataset original son:\n",
        "\n",
        "\n",
        "* x1: Diametro del sombrero del hongo, en cm\n",
        "* x2: Forma del sombrero\n",
        "* x3: Tipo de superficie\n",
        "* x4: Color del sombrero\n",
        "* x5: Si expulsa líquido al ser golpeado\n",
        "* x6: Tipo de himenio\n",
        "* x7: espacio entre himenio\n",
        "* x8: color de himenio\n",
        "* x9: Altura de estipe en cm\n",
        "* x10: Ancho de estipe en mm\n",
        "* x11: Tipo de raiz de estipe\n",
        "* x12: Tipo de superficie de estipe\n",
        "* x13: Color de la estipe\n",
        "* x14: Si tiene anilo\n",
        "* x15: Tipo de anillo\n",
        "* x16: Color de las esporas\n",
        "* x17: hábitat natural\n",
        "* x18: Estación en la que aparece"
      ],
      "metadata": {
        "id": "D18gjVzchNAk"
      }
    },
    {
      "cell_type": "markdown",
      "source": [
        "# Tratamiento de los datos con pandas\n",
        "\n",
        "Pandas es una librería que nos permite tratar con grandes cantidades de datos de forma más fácil y automatizada, en las siguientes partes limpiaré el dataset y haré algunos ajustes con la librería pandas.\n",
        "\n",
        "El siguiente dataset cuenta con la mayoría de tipos de datos en categorías representados por un caracter. La librería pandas permitirá convertirlos en numéros para poder tratarlos."
      ],
      "metadata": {
        "id": "Ls1ji3e7jasj"
      }
    },
    {
      "cell_type": "code",
      "source": [
        "from google.colab import drive\n",
        "drive.mount(\"/content/gdrive\")\n",
        "\n",
        "import pandas as pd"
      ],
      "metadata": {
        "colab": {
          "base_uri": "https://localhost:8080/"
        },
        "id": "m88TGmJfjEkr",
        "outputId": "361be14d-8d0f-4cae-861d-5146a98cede7"
      },
      "execution_count": 1,
      "outputs": [
        {
          "output_type": "stream",
          "name": "stdout",
          "text": [
            "Mounted at /content/gdrive\n"
          ]
        }
      ]
    },
    {
      "cell_type": "markdown",
      "source": [
        "Primero se importa el archivo y se lo imprime, siendo leído por pandas"
      ],
      "metadata": {
        "id": "l8-jvOIOj8cp"
      }
    },
    {
      "cell_type": "code",
      "source": [
        "dataframe = pd.read_csv(\"/content/gdrive/MyDrive/Machine learning/Datasets/Secondary_Mushroom.txt\", sep=\";\")\n",
        "print(dataframe)"
      ],
      "metadata": {
        "colab": {
          "base_uri": "https://localhost:8080/"
        },
        "id": "s3u8iKLHj07P",
        "outputId": "23b2a184-0f6b-476d-a98b-65c8057dbfbb"
      },
      "execution_count": 2,
      "outputs": [
        {
          "output_type": "stream",
          "name": "stdout",
          "text": [
            "      class  cap-diameter cap-shape cap-surface cap-color  \\\n",
            "0         p         15.26         x           g         o   \n",
            "1         p         16.60         x           g         o   \n",
            "2         p         14.07         x           g         o   \n",
            "3         p         14.17         f           h         e   \n",
            "4         p         14.64         x           h         o   \n",
            "...     ...           ...       ...         ...       ...   \n",
            "61064     p          1.18         s           s         y   \n",
            "61065     p          1.27         f           s         y   \n",
            "61066     p          1.27         s           s         y   \n",
            "61067     p          1.24         f           s         y   \n",
            "61068     p          1.17         s           s         y   \n",
            "\n",
            "      does-bruise-or-bleed gill-attachment gill-spacing gill-color  \\\n",
            "0                        f               e          NaN          w   \n",
            "1                        f               e          NaN          w   \n",
            "2                        f               e          NaN          w   \n",
            "3                        f               e          NaN          w   \n",
            "4                        f               e          NaN          w   \n",
            "...                    ...             ...          ...        ...   \n",
            "61064                    f               f            f          f   \n",
            "61065                    f               f            f          f   \n",
            "61066                    f               f            f          f   \n",
            "61067                    f               f            f          f   \n",
            "61068                    f               f            f          f   \n",
            "\n",
            "       stem-height  ...  stem-root stem-surface stem-color veil-type  \\\n",
            "0            16.95  ...          s            y          w         u   \n",
            "1            17.99  ...          s            y          w         u   \n",
            "2            17.80  ...          s            y          w         u   \n",
            "3            15.77  ...          s            y          w         u   \n",
            "4            16.53  ...          s            y          w         u   \n",
            "...            ...  ...        ...          ...        ...       ...   \n",
            "61064         3.93  ...        NaN          NaN          y       NaN   \n",
            "61065         3.18  ...        NaN          NaN          y       NaN   \n",
            "61066         3.86  ...        NaN          NaN          y       NaN   \n",
            "61067         3.56  ...        NaN          NaN          y       NaN   \n",
            "61068         3.25  ...        NaN          NaN          y       NaN   \n",
            "\n",
            "      veil-color has-ring ring-type spore-print-color habitat season  \n",
            "0              w        t         g               NaN       d      w  \n",
            "1              w        t         g               NaN       d      u  \n",
            "2              w        t         g               NaN       d      w  \n",
            "3              w        t         p               NaN       d      w  \n",
            "4              w        t         p               NaN       d      w  \n",
            "...          ...      ...       ...               ...     ...    ...  \n",
            "61064        NaN        f         f               NaN       d      a  \n",
            "61065        NaN        f         f               NaN       d      a  \n",
            "61066        NaN        f         f               NaN       d      u  \n",
            "61067        NaN        f         f               NaN       d      u  \n",
            "61068        NaN        f         f               NaN       d      u  \n",
            "\n",
            "[61069 rows x 21 columns]\n"
          ]
        }
      ]
    },
    {
      "cell_type": "markdown",
      "source": [
        "El método unique(), nos ayuda a distinguir los tipos de datos que existen en una determinada columna, por el tipo de nombre."
      ],
      "metadata": {
        "id": "VGLfC648kJ0T"
      }
    },
    {
      "cell_type": "code",
      "source": [
        "dataframe['class'].unique()"
      ],
      "metadata": {
        "colab": {
          "base_uri": "https://localhost:8080/"
        },
        "id": "WBHB6sGIkGsK",
        "outputId": "d69aaf4e-5ed4-4b98-9c7d-c249a5d81995"
      },
      "execution_count": 3,
      "outputs": [
        {
          "output_type": "execute_result",
          "data": {
            "text/plain": [
              "array(['u', nan], dtype=object)"
            ]
          },
          "metadata": {},
          "execution_count": 3
        }
      ]
    },
    {
      "cell_type": "markdown",
      "source": [
        "Simplemente utilizando la función de replace en pandas, es que convertimos la y que es el resultado en valores 0 y 1. También se elimina dos columnas debido a que posee demasiado datos nulos que complicarán el resultado en el dataset, veil-color y veil-type."
      ],
      "metadata": {
        "id": "Tdk1C5R9kCoj"
      }
    },
    {
      "cell_type": "code",
      "source": [
        "#Conversión de la y a binario\n",
        "dataframe['class'].replace(['p', 'e'],\n",
        "                        [0, 1], inplace=True)\n",
        "print(dataframe['class'][1054:1070]) #Nos permite visualizar como datos cambiaron\n",
        "dataframe.drop(['veil-type', 'veil-color'], axis=1)"
      ],
      "metadata": {
        "colab": {
          "base_uri": "https://localhost:8080/",
          "height": 791
        },
        "id": "C3ls0x81la31",
        "outputId": "7bcd5ae9-bff9-4934-d438-aad56418488e"
      },
      "execution_count": 4,
      "outputs": [
        {
          "output_type": "stream",
          "name": "stdout",
          "text": [
            "1054    0\n",
            "1055    0\n",
            "1056    0\n",
            "1057    0\n",
            "1058    0\n",
            "1059    1\n",
            "1060    1\n",
            "1061    1\n",
            "1062    1\n",
            "1063    1\n",
            "1064    1\n",
            "1065    1\n",
            "1066    1\n",
            "1067    1\n",
            "1068    1\n",
            "1069    1\n",
            "Name: class, dtype: int64\n"
          ]
        },
        {
          "output_type": "execute_result",
          "data": {
            "text/plain": [
              "       class  cap-diameter cap-shape cap-surface cap-color  \\\n",
              "0          0         15.26         x           g         o   \n",
              "1          0         16.60         x           g         o   \n",
              "2          0         14.07         x           g         o   \n",
              "3          0         14.17         f           h         e   \n",
              "4          0         14.64         x           h         o   \n",
              "...      ...           ...       ...         ...       ...   \n",
              "61064      0          1.18         s           s         y   \n",
              "61065      0          1.27         f           s         y   \n",
              "61066      0          1.27         s           s         y   \n",
              "61067      0          1.24         f           s         y   \n",
              "61068      0          1.17         s           s         y   \n",
              "\n",
              "      does-bruise-or-bleed gill-attachment gill-spacing gill-color  \\\n",
              "0                        f               e          NaN          w   \n",
              "1                        f               e          NaN          w   \n",
              "2                        f               e          NaN          w   \n",
              "3                        f               e          NaN          w   \n",
              "4                        f               e          NaN          w   \n",
              "...                    ...             ...          ...        ...   \n",
              "61064                    f               f            f          f   \n",
              "61065                    f               f            f          f   \n",
              "61066                    f               f            f          f   \n",
              "61067                    f               f            f          f   \n",
              "61068                    f               f            f          f   \n",
              "\n",
              "       stem-height  stem-width stem-root stem-surface stem-color has-ring  \\\n",
              "0            16.95       17.09         s            y          w        t   \n",
              "1            17.99       18.19         s            y          w        t   \n",
              "2            17.80       17.74         s            y          w        t   \n",
              "3            15.77       15.98         s            y          w        t   \n",
              "4            16.53       17.20         s            y          w        t   \n",
              "...            ...         ...       ...          ...        ...      ...   \n",
              "61064         3.93        6.22       NaN          NaN          y        f   \n",
              "61065         3.18        5.43       NaN          NaN          y        f   \n",
              "61066         3.86        6.37       NaN          NaN          y        f   \n",
              "61067         3.56        5.44       NaN          NaN          y        f   \n",
              "61068         3.25        5.45       NaN          NaN          y        f   \n",
              "\n",
              "      ring-type spore-print-color habitat season  \n",
              "0             g               NaN       d      w  \n",
              "1             g               NaN       d      u  \n",
              "2             g               NaN       d      w  \n",
              "3             p               NaN       d      w  \n",
              "4             p               NaN       d      w  \n",
              "...         ...               ...     ...    ...  \n",
              "61064         f               NaN       d      a  \n",
              "61065         f               NaN       d      a  \n",
              "61066         f               NaN       d      u  \n",
              "61067         f               NaN       d      u  \n",
              "61068         f               NaN       d      u  \n",
              "\n",
              "[61069 rows x 19 columns]"
            ],
            "text/html": [
              "\n",
              "  <div id=\"df-539dac89-659b-45d0-9730-b68c115e777d\" class=\"colab-df-container\">\n",
              "    <div>\n",
              "<style scoped>\n",
              "    .dataframe tbody tr th:only-of-type {\n",
              "        vertical-align: middle;\n",
              "    }\n",
              "\n",
              "    .dataframe tbody tr th {\n",
              "        vertical-align: top;\n",
              "    }\n",
              "\n",
              "    .dataframe thead th {\n",
              "        text-align: right;\n",
              "    }\n",
              "</style>\n",
              "<table border=\"1\" class=\"dataframe\">\n",
              "  <thead>\n",
              "    <tr style=\"text-align: right;\">\n",
              "      <th></th>\n",
              "      <th>class</th>\n",
              "      <th>cap-diameter</th>\n",
              "      <th>cap-shape</th>\n",
              "      <th>cap-surface</th>\n",
              "      <th>cap-color</th>\n",
              "      <th>does-bruise-or-bleed</th>\n",
              "      <th>gill-attachment</th>\n",
              "      <th>gill-spacing</th>\n",
              "      <th>gill-color</th>\n",
              "      <th>stem-height</th>\n",
              "      <th>stem-width</th>\n",
              "      <th>stem-root</th>\n",
              "      <th>stem-surface</th>\n",
              "      <th>stem-color</th>\n",
              "      <th>has-ring</th>\n",
              "      <th>ring-type</th>\n",
              "      <th>spore-print-color</th>\n",
              "      <th>habitat</th>\n",
              "      <th>season</th>\n",
              "    </tr>\n",
              "  </thead>\n",
              "  <tbody>\n",
              "    <tr>\n",
              "      <th>0</th>\n",
              "      <td>0</td>\n",
              "      <td>15.26</td>\n",
              "      <td>x</td>\n",
              "      <td>g</td>\n",
              "      <td>o</td>\n",
              "      <td>f</td>\n",
              "      <td>e</td>\n",
              "      <td>NaN</td>\n",
              "      <td>w</td>\n",
              "      <td>16.95</td>\n",
              "      <td>17.09</td>\n",
              "      <td>s</td>\n",
              "      <td>y</td>\n",
              "      <td>w</td>\n",
              "      <td>t</td>\n",
              "      <td>g</td>\n",
              "      <td>NaN</td>\n",
              "      <td>d</td>\n",
              "      <td>w</td>\n",
              "    </tr>\n",
              "    <tr>\n",
              "      <th>1</th>\n",
              "      <td>0</td>\n",
              "      <td>16.60</td>\n",
              "      <td>x</td>\n",
              "      <td>g</td>\n",
              "      <td>o</td>\n",
              "      <td>f</td>\n",
              "      <td>e</td>\n",
              "      <td>NaN</td>\n",
              "      <td>w</td>\n",
              "      <td>17.99</td>\n",
              "      <td>18.19</td>\n",
              "      <td>s</td>\n",
              "      <td>y</td>\n",
              "      <td>w</td>\n",
              "      <td>t</td>\n",
              "      <td>g</td>\n",
              "      <td>NaN</td>\n",
              "      <td>d</td>\n",
              "      <td>u</td>\n",
              "    </tr>\n",
              "    <tr>\n",
              "      <th>2</th>\n",
              "      <td>0</td>\n",
              "      <td>14.07</td>\n",
              "      <td>x</td>\n",
              "      <td>g</td>\n",
              "      <td>o</td>\n",
              "      <td>f</td>\n",
              "      <td>e</td>\n",
              "      <td>NaN</td>\n",
              "      <td>w</td>\n",
              "      <td>17.80</td>\n",
              "      <td>17.74</td>\n",
              "      <td>s</td>\n",
              "      <td>y</td>\n",
              "      <td>w</td>\n",
              "      <td>t</td>\n",
              "      <td>g</td>\n",
              "      <td>NaN</td>\n",
              "      <td>d</td>\n",
              "      <td>w</td>\n",
              "    </tr>\n",
              "    <tr>\n",
              "      <th>3</th>\n",
              "      <td>0</td>\n",
              "      <td>14.17</td>\n",
              "      <td>f</td>\n",
              "      <td>h</td>\n",
              "      <td>e</td>\n",
              "      <td>f</td>\n",
              "      <td>e</td>\n",
              "      <td>NaN</td>\n",
              "      <td>w</td>\n",
              "      <td>15.77</td>\n",
              "      <td>15.98</td>\n",
              "      <td>s</td>\n",
              "      <td>y</td>\n",
              "      <td>w</td>\n",
              "      <td>t</td>\n",
              "      <td>p</td>\n",
              "      <td>NaN</td>\n",
              "      <td>d</td>\n",
              "      <td>w</td>\n",
              "    </tr>\n",
              "    <tr>\n",
              "      <th>4</th>\n",
              "      <td>0</td>\n",
              "      <td>14.64</td>\n",
              "      <td>x</td>\n",
              "      <td>h</td>\n",
              "      <td>o</td>\n",
              "      <td>f</td>\n",
              "      <td>e</td>\n",
              "      <td>NaN</td>\n",
              "      <td>w</td>\n",
              "      <td>16.53</td>\n",
              "      <td>17.20</td>\n",
              "      <td>s</td>\n",
              "      <td>y</td>\n",
              "      <td>w</td>\n",
              "      <td>t</td>\n",
              "      <td>p</td>\n",
              "      <td>NaN</td>\n",
              "      <td>d</td>\n",
              "      <td>w</td>\n",
              "    </tr>\n",
              "    <tr>\n",
              "      <th>...</th>\n",
              "      <td>...</td>\n",
              "      <td>...</td>\n",
              "      <td>...</td>\n",
              "      <td>...</td>\n",
              "      <td>...</td>\n",
              "      <td>...</td>\n",
              "      <td>...</td>\n",
              "      <td>...</td>\n",
              "      <td>...</td>\n",
              "      <td>...</td>\n",
              "      <td>...</td>\n",
              "      <td>...</td>\n",
              "      <td>...</td>\n",
              "      <td>...</td>\n",
              "      <td>...</td>\n",
              "      <td>...</td>\n",
              "      <td>...</td>\n",
              "      <td>...</td>\n",
              "      <td>...</td>\n",
              "    </tr>\n",
              "    <tr>\n",
              "      <th>61064</th>\n",
              "      <td>0</td>\n",
              "      <td>1.18</td>\n",
              "      <td>s</td>\n",
              "      <td>s</td>\n",
              "      <td>y</td>\n",
              "      <td>f</td>\n",
              "      <td>f</td>\n",
              "      <td>f</td>\n",
              "      <td>f</td>\n",
              "      <td>3.93</td>\n",
              "      <td>6.22</td>\n",
              "      <td>NaN</td>\n",
              "      <td>NaN</td>\n",
              "      <td>y</td>\n",
              "      <td>f</td>\n",
              "      <td>f</td>\n",
              "      <td>NaN</td>\n",
              "      <td>d</td>\n",
              "      <td>a</td>\n",
              "    </tr>\n",
              "    <tr>\n",
              "      <th>61065</th>\n",
              "      <td>0</td>\n",
              "      <td>1.27</td>\n",
              "      <td>f</td>\n",
              "      <td>s</td>\n",
              "      <td>y</td>\n",
              "      <td>f</td>\n",
              "      <td>f</td>\n",
              "      <td>f</td>\n",
              "      <td>f</td>\n",
              "      <td>3.18</td>\n",
              "      <td>5.43</td>\n",
              "      <td>NaN</td>\n",
              "      <td>NaN</td>\n",
              "      <td>y</td>\n",
              "      <td>f</td>\n",
              "      <td>f</td>\n",
              "      <td>NaN</td>\n",
              "      <td>d</td>\n",
              "      <td>a</td>\n",
              "    </tr>\n",
              "    <tr>\n",
              "      <th>61066</th>\n",
              "      <td>0</td>\n",
              "      <td>1.27</td>\n",
              "      <td>s</td>\n",
              "      <td>s</td>\n",
              "      <td>y</td>\n",
              "      <td>f</td>\n",
              "      <td>f</td>\n",
              "      <td>f</td>\n",
              "      <td>f</td>\n",
              "      <td>3.86</td>\n",
              "      <td>6.37</td>\n",
              "      <td>NaN</td>\n",
              "      <td>NaN</td>\n",
              "      <td>y</td>\n",
              "      <td>f</td>\n",
              "      <td>f</td>\n",
              "      <td>NaN</td>\n",
              "      <td>d</td>\n",
              "      <td>u</td>\n",
              "    </tr>\n",
              "    <tr>\n",
              "      <th>61067</th>\n",
              "      <td>0</td>\n",
              "      <td>1.24</td>\n",
              "      <td>f</td>\n",
              "      <td>s</td>\n",
              "      <td>y</td>\n",
              "      <td>f</td>\n",
              "      <td>f</td>\n",
              "      <td>f</td>\n",
              "      <td>f</td>\n",
              "      <td>3.56</td>\n",
              "      <td>5.44</td>\n",
              "      <td>NaN</td>\n",
              "      <td>NaN</td>\n",
              "      <td>y</td>\n",
              "      <td>f</td>\n",
              "      <td>f</td>\n",
              "      <td>NaN</td>\n",
              "      <td>d</td>\n",
              "      <td>u</td>\n",
              "    </tr>\n",
              "    <tr>\n",
              "      <th>61068</th>\n",
              "      <td>0</td>\n",
              "      <td>1.17</td>\n",
              "      <td>s</td>\n",
              "      <td>s</td>\n",
              "      <td>y</td>\n",
              "      <td>f</td>\n",
              "      <td>f</td>\n",
              "      <td>f</td>\n",
              "      <td>f</td>\n",
              "      <td>3.25</td>\n",
              "      <td>5.45</td>\n",
              "      <td>NaN</td>\n",
              "      <td>NaN</td>\n",
              "      <td>y</td>\n",
              "      <td>f</td>\n",
              "      <td>f</td>\n",
              "      <td>NaN</td>\n",
              "      <td>d</td>\n",
              "      <td>u</td>\n",
              "    </tr>\n",
              "  </tbody>\n",
              "</table>\n",
              "<p>61069 rows × 19 columns</p>\n",
              "</div>\n",
              "    <div class=\"colab-df-buttons\">\n",
              "\n",
              "  <div class=\"colab-df-container\">\n",
              "    <button class=\"colab-df-convert\" onclick=\"convertToInteractive('df-539dac89-659b-45d0-9730-b68c115e777d')\"\n",
              "            title=\"Convert this dataframe to an interactive table.\"\n",
              "            style=\"display:none;\">\n",
              "\n",
              "  <svg xmlns=\"http://www.w3.org/2000/svg\" height=\"24px\" viewBox=\"0 -960 960 960\">\n",
              "    <path d=\"M120-120v-720h720v720H120Zm60-500h600v-160H180v160Zm220 220h160v-160H400v160Zm0 220h160v-160H400v160ZM180-400h160v-160H180v160Zm440 0h160v-160H620v160ZM180-180h160v-160H180v160Zm440 0h160v-160H620v160Z\"/>\n",
              "  </svg>\n",
              "    </button>\n",
              "\n",
              "  <style>\n",
              "    .colab-df-container {\n",
              "      display:flex;\n",
              "      gap: 12px;\n",
              "    }\n",
              "\n",
              "    .colab-df-convert {\n",
              "      background-color: #E8F0FE;\n",
              "      border: none;\n",
              "      border-radius: 50%;\n",
              "      cursor: pointer;\n",
              "      display: none;\n",
              "      fill: #1967D2;\n",
              "      height: 32px;\n",
              "      padding: 0 0 0 0;\n",
              "      width: 32px;\n",
              "    }\n",
              "\n",
              "    .colab-df-convert:hover {\n",
              "      background-color: #E2EBFA;\n",
              "      box-shadow: 0px 1px 2px rgba(60, 64, 67, 0.3), 0px 1px 3px 1px rgba(60, 64, 67, 0.15);\n",
              "      fill: #174EA6;\n",
              "    }\n",
              "\n",
              "    .colab-df-buttons div {\n",
              "      margin-bottom: 4px;\n",
              "    }\n",
              "\n",
              "    [theme=dark] .colab-df-convert {\n",
              "      background-color: #3B4455;\n",
              "      fill: #D2E3FC;\n",
              "    }\n",
              "\n",
              "    [theme=dark] .colab-df-convert:hover {\n",
              "      background-color: #434B5C;\n",
              "      box-shadow: 0px 1px 3px 1px rgba(0, 0, 0, 0.15);\n",
              "      filter: drop-shadow(0px 1px 2px rgba(0, 0, 0, 0.3));\n",
              "      fill: #FFFFFF;\n",
              "    }\n",
              "  </style>\n",
              "\n",
              "    <script>\n",
              "      const buttonEl =\n",
              "        document.querySelector('#df-539dac89-659b-45d0-9730-b68c115e777d button.colab-df-convert');\n",
              "      buttonEl.style.display =\n",
              "        google.colab.kernel.accessAllowed ? 'block' : 'none';\n",
              "\n",
              "      async function convertToInteractive(key) {\n",
              "        const element = document.querySelector('#df-539dac89-659b-45d0-9730-b68c115e777d');\n",
              "        const dataTable =\n",
              "          await google.colab.kernel.invokeFunction('convertToInteractive',\n",
              "                                                    [key], {});\n",
              "        if (!dataTable) return;\n",
              "\n",
              "        const docLinkHtml = 'Like what you see? Visit the ' +\n",
              "          '<a target=\"_blank\" href=https://colab.research.google.com/notebooks/data_table.ipynb>data table notebook</a>'\n",
              "          + ' to learn more about interactive tables.';\n",
              "        element.innerHTML = '';\n",
              "        dataTable['output_type'] = 'display_data';\n",
              "        await google.colab.output.renderOutput(dataTable, element);\n",
              "        const docLink = document.createElement('div');\n",
              "        docLink.innerHTML = docLinkHtml;\n",
              "        element.appendChild(docLink);\n",
              "      }\n",
              "    </script>\n",
              "  </div>\n",
              "\n",
              "\n",
              "<div id=\"df-5c2f2671-4663-4fb3-83ec-3e00116c50d7\">\n",
              "  <button class=\"colab-df-quickchart\" onclick=\"quickchart('df-5c2f2671-4663-4fb3-83ec-3e00116c50d7')\"\n",
              "            title=\"Suggest charts\"\n",
              "            style=\"display:none;\">\n",
              "\n",
              "<svg xmlns=\"http://www.w3.org/2000/svg\" height=\"24px\"viewBox=\"0 0 24 24\"\n",
              "     width=\"24px\">\n",
              "    <g>\n",
              "        <path d=\"M19 3H5c-1.1 0-2 .9-2 2v14c0 1.1.9 2 2 2h14c1.1 0 2-.9 2-2V5c0-1.1-.9-2-2-2zM9 17H7v-7h2v7zm4 0h-2V7h2v10zm4 0h-2v-4h2v4z\"/>\n",
              "    </g>\n",
              "</svg>\n",
              "  </button>\n",
              "\n",
              "<style>\n",
              "  .colab-df-quickchart {\n",
              "      --bg-color: #E8F0FE;\n",
              "      --fill-color: #1967D2;\n",
              "      --hover-bg-color: #E2EBFA;\n",
              "      --hover-fill-color: #174EA6;\n",
              "      --disabled-fill-color: #AAA;\n",
              "      --disabled-bg-color: #DDD;\n",
              "  }\n",
              "\n",
              "  [theme=dark] .colab-df-quickchart {\n",
              "      --bg-color: #3B4455;\n",
              "      --fill-color: #D2E3FC;\n",
              "      --hover-bg-color: #434B5C;\n",
              "      --hover-fill-color: #FFFFFF;\n",
              "      --disabled-bg-color: #3B4455;\n",
              "      --disabled-fill-color: #666;\n",
              "  }\n",
              "\n",
              "  .colab-df-quickchart {\n",
              "    background-color: var(--bg-color);\n",
              "    border: none;\n",
              "    border-radius: 50%;\n",
              "    cursor: pointer;\n",
              "    display: none;\n",
              "    fill: var(--fill-color);\n",
              "    height: 32px;\n",
              "    padding: 0;\n",
              "    width: 32px;\n",
              "  }\n",
              "\n",
              "  .colab-df-quickchart:hover {\n",
              "    background-color: var(--hover-bg-color);\n",
              "    box-shadow: 0 1px 2px rgba(60, 64, 67, 0.3), 0 1px 3px 1px rgba(60, 64, 67, 0.15);\n",
              "    fill: var(--button-hover-fill-color);\n",
              "  }\n",
              "\n",
              "  .colab-df-quickchart-complete:disabled,\n",
              "  .colab-df-quickchart-complete:disabled:hover {\n",
              "    background-color: var(--disabled-bg-color);\n",
              "    fill: var(--disabled-fill-color);\n",
              "    box-shadow: none;\n",
              "  }\n",
              "\n",
              "  .colab-df-spinner {\n",
              "    border: 2px solid var(--fill-color);\n",
              "    border-color: transparent;\n",
              "    border-bottom-color: var(--fill-color);\n",
              "    animation:\n",
              "      spin 1s steps(1) infinite;\n",
              "  }\n",
              "\n",
              "  @keyframes spin {\n",
              "    0% {\n",
              "      border-color: transparent;\n",
              "      border-bottom-color: var(--fill-color);\n",
              "      border-left-color: var(--fill-color);\n",
              "    }\n",
              "    20% {\n",
              "      border-color: transparent;\n",
              "      border-left-color: var(--fill-color);\n",
              "      border-top-color: var(--fill-color);\n",
              "    }\n",
              "    30% {\n",
              "      border-color: transparent;\n",
              "      border-left-color: var(--fill-color);\n",
              "      border-top-color: var(--fill-color);\n",
              "      border-right-color: var(--fill-color);\n",
              "    }\n",
              "    40% {\n",
              "      border-color: transparent;\n",
              "      border-right-color: var(--fill-color);\n",
              "      border-top-color: var(--fill-color);\n",
              "    }\n",
              "    60% {\n",
              "      border-color: transparent;\n",
              "      border-right-color: var(--fill-color);\n",
              "    }\n",
              "    80% {\n",
              "      border-color: transparent;\n",
              "      border-right-color: var(--fill-color);\n",
              "      border-bottom-color: var(--fill-color);\n",
              "    }\n",
              "    90% {\n",
              "      border-color: transparent;\n",
              "      border-bottom-color: var(--fill-color);\n",
              "    }\n",
              "  }\n",
              "</style>\n",
              "\n",
              "  <script>\n",
              "    async function quickchart(key) {\n",
              "      const quickchartButtonEl =\n",
              "        document.querySelector('#' + key + ' button');\n",
              "      quickchartButtonEl.disabled = true;  // To prevent multiple clicks.\n",
              "      quickchartButtonEl.classList.add('colab-df-spinner');\n",
              "      try {\n",
              "        const charts = await google.colab.kernel.invokeFunction(\n",
              "            'suggestCharts', [key], {});\n",
              "      } catch (error) {\n",
              "        console.error('Error during call to suggestCharts:', error);\n",
              "      }\n",
              "      quickchartButtonEl.classList.remove('colab-df-spinner');\n",
              "      quickchartButtonEl.classList.add('colab-df-quickchart-complete');\n",
              "    }\n",
              "    (() => {\n",
              "      let quickchartButtonEl =\n",
              "        document.querySelector('#df-5c2f2671-4663-4fb3-83ec-3e00116c50d7 button');\n",
              "      quickchartButtonEl.style.display =\n",
              "        google.colab.kernel.accessAllowed ? 'block' : 'none';\n",
              "    })();\n",
              "  </script>\n",
              "</div>\n",
              "    </div>\n",
              "  </div>\n"
            ],
            "application/vnd.google.colaboratory.intrinsic+json": {
              "type": "dataframe",
              "summary": "{\n  \"name\": \"dataframe\",\n  \"rows\": 61069,\n  \"fields\": [\n    {\n      \"column\": \"class\",\n      \"properties\": {\n        \"dtype\": \"number\",\n        \"std\": 0,\n        \"min\": 0,\n        \"max\": 1,\n        \"num_unique_values\": 2,\n        \"samples\": [\n          1,\n          0\n        ],\n        \"semantic_type\": \"\",\n        \"description\": \"\"\n      }\n    },\n    {\n      \"column\": \"cap-diameter\",\n      \"properties\": {\n        \"dtype\": \"number\",\n        \"std\": 5.26484494706298,\n        \"min\": 0.38,\n        \"max\": 62.34,\n        \"num_unique_values\": 2571,\n        \"samples\": [\n          16.45,\n          21.75\n        ],\n        \"semantic_type\": \"\",\n        \"description\": \"\"\n      }\n    },\n    {\n      \"column\": \"cap-shape\",\n      \"properties\": {\n        \"dtype\": \"category\",\n        \"num_unique_values\": 7,\n        \"samples\": [\n          \"x\",\n          \"f\"\n        ],\n        \"semantic_type\": \"\",\n        \"description\": \"\"\n      }\n    },\n    {\n      \"column\": \"cap-surface\",\n      \"properties\": {\n        \"dtype\": \"category\",\n        \"num_unique_values\": 11,\n        \"samples\": [\n          \"s\",\n          \"g\"\n        ],\n        \"semantic_type\": \"\",\n        \"description\": \"\"\n      }\n    },\n    {\n      \"column\": \"cap-color\",\n      \"properties\": {\n        \"dtype\": \"category\",\n        \"num_unique_values\": 12,\n        \"samples\": [\n          \"l\",\n          \"b\"\n        ],\n        \"semantic_type\": \"\",\n        \"description\": \"\"\n      }\n    },\n    {\n      \"column\": \"does-bruise-or-bleed\",\n      \"properties\": {\n        \"dtype\": \"category\",\n        \"num_unique_values\": 2,\n        \"samples\": [\n          \"t\",\n          \"f\"\n        ],\n        \"semantic_type\": \"\",\n        \"description\": \"\"\n      }\n    },\n    {\n      \"column\": \"gill-attachment\",\n      \"properties\": {\n        \"dtype\": \"category\",\n        \"num_unique_values\": 7,\n        \"samples\": [\n          \"e\",\n          \"a\"\n        ],\n        \"semantic_type\": \"\",\n        \"description\": \"\"\n      }\n    },\n    {\n      \"column\": \"gill-spacing\",\n      \"properties\": {\n        \"dtype\": \"category\",\n        \"num_unique_values\": 3,\n        \"samples\": [\n          \"c\",\n          \"d\"\n        ],\n        \"semantic_type\": \"\",\n        \"description\": \"\"\n      }\n    },\n    {\n      \"column\": \"gill-color\",\n      \"properties\": {\n        \"dtype\": \"category\",\n        \"num_unique_values\": 12,\n        \"samples\": [\n          \"k\",\n          \"o\"\n        ],\n        \"semantic_type\": \"\",\n        \"description\": \"\"\n      }\n    },\n    {\n      \"column\": \"stem-height\",\n      \"properties\": {\n        \"dtype\": \"number\",\n        \"std\": 3.3700168612896517,\n        \"min\": 0.0,\n        \"max\": 33.92,\n        \"num_unique_values\": 2226,\n        \"samples\": [\n          16.65,\n          10.72\n        ],\n        \"semantic_type\": \"\",\n        \"description\": \"\"\n      }\n    },\n    {\n      \"column\": \"stem-width\",\n      \"properties\": {\n        \"dtype\": \"number\",\n        \"std\": 10.035955043117532,\n        \"min\": 0.0,\n        \"max\": 103.91,\n        \"num_unique_values\": 4630,\n        \"samples\": [\n          12.33,\n          2.08\n        ],\n        \"semantic_type\": \"\",\n        \"description\": \"\"\n      }\n    },\n    {\n      \"column\": \"stem-root\",\n      \"properties\": {\n        \"dtype\": \"category\",\n        \"num_unique_values\": 5,\n        \"samples\": [\n          \"b\",\n          \"f\"\n        ],\n        \"semantic_type\": \"\",\n        \"description\": \"\"\n      }\n    },\n    {\n      \"column\": \"stem-surface\",\n      \"properties\": {\n        \"dtype\": \"category\",\n        \"num_unique_values\": 8,\n        \"samples\": [\n          \"s\",\n          \"t\"\n        ],\n        \"semantic_type\": \"\",\n        \"description\": \"\"\n      }\n    },\n    {\n      \"column\": \"stem-color\",\n      \"properties\": {\n        \"dtype\": \"category\",\n        \"num_unique_values\": 13,\n        \"samples\": [\n          \"o\",\n          \"k\"\n        ],\n        \"semantic_type\": \"\",\n        \"description\": \"\"\n      }\n    },\n    {\n      \"column\": \"has-ring\",\n      \"properties\": {\n        \"dtype\": \"category\",\n        \"num_unique_values\": 2,\n        \"samples\": [\n          \"f\",\n          \"t\"\n        ],\n        \"semantic_type\": \"\",\n        \"description\": \"\"\n      }\n    },\n    {\n      \"column\": \"ring-type\",\n      \"properties\": {\n        \"dtype\": \"category\",\n        \"num_unique_values\": 8,\n        \"samples\": [\n          \"p\",\n          \"m\"\n        ],\n        \"semantic_type\": \"\",\n        \"description\": \"\"\n      }\n    },\n    {\n      \"column\": \"spore-print-color\",\n      \"properties\": {\n        \"dtype\": \"category\",\n        \"num_unique_values\": 7,\n        \"samples\": [\n          \"w\",\n          \"p\"\n        ],\n        \"semantic_type\": \"\",\n        \"description\": \"\"\n      }\n    },\n    {\n      \"column\": \"habitat\",\n      \"properties\": {\n        \"dtype\": \"category\",\n        \"num_unique_values\": 8,\n        \"samples\": [\n          \"m\",\n          \"p\"\n        ],\n        \"semantic_type\": \"\",\n        \"description\": \"\"\n      }\n    },\n    {\n      \"column\": \"season\",\n      \"properties\": {\n        \"dtype\": \"category\",\n        \"num_unique_values\": 4,\n        \"samples\": [\n          \"u\",\n          \"s\"\n        ],\n        \"semantic_type\": \"\",\n        \"description\": \"\"\n      }\n    }\n  ]\n}"
            }
          },
          "metadata": {},
          "execution_count": 4
        }
      ]
    },
    {
      "cell_type": "markdown",
      "source": [
        "Para poder tratar los datos y categorizarlos todos de forma automática también se puede utlizar otra librería denominada sklearn.preprocessing la cual nos permitirá colocar las cateogorias de caracterres dentro de las columnas como rangos numéricos"
      ],
      "metadata": {
        "id": "troKVTzdlnnd"
      }
    },
    {
      "cell_type": "code",
      "source": [
        "from sklearn.preprocessing import OrdinalEncoder"
      ],
      "metadata": {
        "id": "Z6QT1RI3l5P0"
      },
      "execution_count": 5,
      "outputs": []
    },
    {
      "cell_type": "code",
      "source": [
        "enc = OrdinalEncoder()\n"
      ],
      "metadata": {
        "id": "Oyi5GL9mmOEV"
      },
      "execution_count": 6,
      "outputs": []
    },
    {
      "cell_type": "markdown",
      "source": [
        "Dicho tratamiento se realizará utilizando el orden definido por OrdinalEncoder aplicado en todas las columnas necesarias"
      ],
      "metadata": {
        "id": "wUxcj5LemRWB"
      }
    },
    {
      "cell_type": "code",
      "source": [
        "dataframe['cap-shape'] = enc.fit_transform(dataframe[['cap-shape']])\n",
        "dataframe['cap-surface'] = enc.fit_transform(dataframe[['cap-surface']])\n",
        "dataframe['cap-color'] = enc.fit_transform(dataframe[['cap-color']])\n",
        "dataframe['does-bruise-or-bleed'] = enc.fit_transform(dataframe[['does-bruise-or-bleed']])\n",
        "dataframe['gill-attachment'] = enc.fit_transform(dataframe[['gill-attachment']])\n",
        "dataframe['gill-spacing'] = enc.fit_transform(dataframe[['gill-spacing']])\n",
        "dataframe['gill-color'] = enc.fit_transform(dataframe[['gill-color']])\n",
        "dataframe['stem-root'] = enc.fit_transform(dataframe[['stem-root']])\n",
        "dataframe['stem-surface'] = enc.fit_transform(dataframe[['stem-surface']])\n",
        "dataframe['stem-color'] = enc.fit_transform(dataframe[['stem-color']])\n",
        "dataframe['has-ring'] = enc.fit_transform(dataframe[['has-ring']])\n",
        "dataframe['ring-type'] = enc.fit_transform(dataframe[['ring-type']])\n",
        "dataframe['spore-print-color'] = enc.fit_transform(dataframe[['spore-print-color']])\n",
        "dataframe['habitat'] = enc.fit_transform(dataframe[['habitat']])\n",
        "dataframe['season'] = enc.fit_transform(dataframe[['season']])"
      ],
      "metadata": {
        "id": "Eu7n5IlsmRFH"
      },
      "execution_count": 7,
      "outputs": []
    },
    {
      "cell_type": "code",
      "source": [
        "# Visualizar los datos ya cambiados\n",
        "print(dataframe)"
      ],
      "metadata": {
        "colab": {
          "base_uri": "https://localhost:8080/"
        },
        "id": "uiF4JWbfmn0D",
        "outputId": "e9d70810-ed92-45aa-85d0-96393dbb6c05"
      },
      "execution_count": 8,
      "outputs": [
        {
          "output_type": "stream",
          "name": "stdout",
          "text": [
            "       class  cap-diameter  cap-shape  cap-surface  cap-color  \\\n",
            "0          0         15.26        6.0          2.0        6.0   \n",
            "1          0         16.60        6.0          2.0        6.0   \n",
            "2          0         14.07        6.0          2.0        6.0   \n",
            "3          0         14.17        2.0          3.0        1.0   \n",
            "4          0         14.64        6.0          3.0        6.0   \n",
            "...      ...           ...        ...          ...        ...   \n",
            "61064      0          1.18        5.0          7.0       11.0   \n",
            "61065      0          1.27        2.0          7.0       11.0   \n",
            "61066      0          1.27        5.0          7.0       11.0   \n",
            "61067      0          1.24        2.0          7.0       11.0   \n",
            "61068      0          1.17        5.0          7.0       11.0   \n",
            "\n",
            "       does-bruise-or-bleed  gill-attachment  gill-spacing  gill-color  \\\n",
            "0                       0.0              2.0           NaN        10.0   \n",
            "1                       0.0              2.0           NaN        10.0   \n",
            "2                       0.0              2.0           NaN        10.0   \n",
            "3                       0.0              2.0           NaN        10.0   \n",
            "4                       0.0              2.0           NaN        10.0   \n",
            "...                     ...              ...           ...         ...   \n",
            "61064                   0.0              3.0           2.0         2.0   \n",
            "61065                   0.0              3.0           2.0         2.0   \n",
            "61066                   0.0              3.0           2.0         2.0   \n",
            "61067                   0.0              3.0           2.0         2.0   \n",
            "61068                   0.0              3.0           2.0         2.0   \n",
            "\n",
            "       stem-height  ...  stem-root  stem-surface  stem-color  veil-type  \\\n",
            "0            16.95  ...        4.0           7.0        11.0          u   \n",
            "1            17.99  ...        4.0           7.0        11.0          u   \n",
            "2            17.80  ...        4.0           7.0        11.0          u   \n",
            "3            15.77  ...        4.0           7.0        11.0          u   \n",
            "4            16.53  ...        4.0           7.0        11.0          u   \n",
            "...            ...  ...        ...           ...         ...        ...   \n",
            "61064         3.93  ...        NaN           NaN        12.0        NaN   \n",
            "61065         3.18  ...        NaN           NaN        12.0        NaN   \n",
            "61066         3.86  ...        NaN           NaN        12.0        NaN   \n",
            "61067         3.56  ...        NaN           NaN        12.0        NaN   \n",
            "61068         3.25  ...        NaN           NaN        12.0        NaN   \n",
            "\n",
            "      veil-color has-ring  ring-type  spore-print-color  habitat  season  \n",
            "0              w      1.0        2.0                NaN      0.0     3.0  \n",
            "1              w      1.0        2.0                NaN      0.0     2.0  \n",
            "2              w      1.0        2.0                NaN      0.0     3.0  \n",
            "3              w      1.0        5.0                NaN      0.0     3.0  \n",
            "4              w      1.0        5.0                NaN      0.0     3.0  \n",
            "...          ...      ...        ...                ...      ...     ...  \n",
            "61064        NaN      0.0        1.0                NaN      0.0     0.0  \n",
            "61065        NaN      0.0        1.0                NaN      0.0     0.0  \n",
            "61066        NaN      0.0        1.0                NaN      0.0     2.0  \n",
            "61067        NaN      0.0        1.0                NaN      0.0     2.0  \n",
            "61068        NaN      0.0        1.0                NaN      0.0     2.0  \n",
            "\n",
            "[61069 rows x 21 columns]\n"
          ]
        }
      ]
    },
    {
      "cell_type": "markdown",
      "source": [
        "Hasta este punto es que se ha podido tratar los datos cambiándolos de caracteres a numéricos, pero dentro de este dataset también existen valores nulos, los cuales en el siguiente ejemplo serán reemplazados por la media de dicha columna para poder ayudar con el cálculo y pueda ser procesado."
      ],
      "metadata": {
        "id": "97L57VmTmzbQ"
      }
    },
    {
      "cell_type": "code",
      "source": [
        "mean_gs = dataframe[\"gill-spacing\"].mean()\n",
        "dataframe[\"gill-spacing\"] = dataframe[\"gill-spacing\"].fillna(mean_gs)\n",
        "mean_sr = dataframe[\"stem-root\"].mean()\n",
        "dataframe[\"stem-root\"] = dataframe[\"stem-root\"].fillna(mean_sr)\n",
        "mean_ss = dataframe[\"stem-surface\"].mean()\n",
        "dataframe[\"stem-surface\"] = dataframe[\"stem-surface\"].fillna(mean_ss)\n",
        "mean_sc = dataframe[\"spore-print-color\"].mean()\n",
        "dataframe[\"spore-print-color\"] = dataframe[\"spore-print-color\"].fillna(mean_sc)\n",
        "mean_cs = dataframe[\"cap-surface\"].mean()\n",
        "dataframe[\"cap-surface\"] = dataframe[\"cap-surface\"].fillna(mean_cs)\n",
        "mean_ga = dataframe[\"gill-attachment\"].mean()\n",
        "dataframe[\"gill-attachment\"] = dataframe[\"gill-attachment\"].fillna(mean_ga)\n",
        "mean_rt = dataframe[\"ring-type\"].mean()\n",
        "dataframe[\"ring-type\"] = dataframe[\"ring-type\"].fillna(mean_rt)"
      ],
      "metadata": {
        "id": "v9QNADdqnEuX"
      },
      "execution_count": 9,
      "outputs": []
    },
    {
      "cell_type": "markdown",
      "source": [
        "Lo que el código hace es obtener la media de la columna y reemplazar los valores nulos con la media."
      ],
      "metadata": {
        "id": "UHqMRhLKnZci"
      }
    },
    {
      "cell_type": "code",
      "source": [
        "print(dataframe)"
      ],
      "metadata": {
        "colab": {
          "base_uri": "https://localhost:8080/"
        },
        "id": "VG_lqsipnprZ",
        "outputId": "82f148fd-9c7a-417a-f67b-b3bd247ca9f7"
      },
      "execution_count": 10,
      "outputs": [
        {
          "output_type": "stream",
          "name": "stdout",
          "text": [
            "       class  cap-diameter  cap-shape  cap-surface  cap-color  \\\n",
            "0          0         15.26        6.0          2.0        6.0   \n",
            "1          0         16.60        6.0          2.0        6.0   \n",
            "2          0         14.07        6.0          2.0        6.0   \n",
            "3          0         14.17        2.0          3.0        1.0   \n",
            "4          0         14.64        6.0          3.0        6.0   \n",
            "...      ...           ...        ...          ...        ...   \n",
            "61064      0          1.18        5.0          7.0       11.0   \n",
            "61065      0          1.27        2.0          7.0       11.0   \n",
            "61066      0          1.27        5.0          7.0       11.0   \n",
            "61067      0          1.24        2.0          7.0       11.0   \n",
            "61068      0          1.17        5.0          7.0       11.0   \n",
            "\n",
            "       does-bruise-or-bleed  gill-attachment  gill-spacing  gill-color  \\\n",
            "0                       0.0              2.0      0.411765        10.0   \n",
            "1                       0.0              2.0      0.411765        10.0   \n",
            "2                       0.0              2.0      0.411765        10.0   \n",
            "3                       0.0              2.0      0.411765        10.0   \n",
            "4                       0.0              2.0      0.411765        10.0   \n",
            "...                     ...              ...           ...         ...   \n",
            "61064                   0.0              3.0      2.000000         2.0   \n",
            "61065                   0.0              3.0      2.000000         2.0   \n",
            "61066                   0.0              3.0      2.000000         2.0   \n",
            "61067                   0.0              3.0      2.000000         2.0   \n",
            "61068                   0.0              3.0      2.000000         2.0   \n",
            "\n",
            "       stem-height  ...  stem-root  stem-surface  stem-color  veil-type  \\\n",
            "0            16.95  ...   4.000000      7.000000        11.0          u   \n",
            "1            17.99  ...   4.000000      7.000000        11.0          u   \n",
            "2            17.80  ...   4.000000      7.000000        11.0          u   \n",
            "3            15.77  ...   4.000000      7.000000        11.0          u   \n",
            "4            16.53  ...   4.000000      7.000000        11.0          u   \n",
            "...            ...  ...        ...           ...         ...        ...   \n",
            "61064         3.93  ...   2.074074      4.485334        12.0        NaN   \n",
            "61065         3.18  ...   2.074074      4.485334        12.0        NaN   \n",
            "61066         3.86  ...   2.074074      4.485334        12.0        NaN   \n",
            "61067         3.56  ...   2.074074      4.485334        12.0        NaN   \n",
            "61068         3.25  ...   2.074074      4.485334        12.0        NaN   \n",
            "\n",
            "      veil-color has-ring  ring-type  spore-print-color  habitat  season  \n",
            "0              w      1.0        2.0           2.656437      0.0     3.0  \n",
            "1              w      1.0        2.0           2.656437      0.0     2.0  \n",
            "2              w      1.0        2.0           2.656437      0.0     3.0  \n",
            "3              w      1.0        5.0           2.656437      0.0     3.0  \n",
            "4              w      1.0        5.0           2.656437      0.0     3.0  \n",
            "...          ...      ...        ...                ...      ...     ...  \n",
            "61064        NaN      0.0        1.0           2.656437      0.0     0.0  \n",
            "61065        NaN      0.0        1.0           2.656437      0.0     0.0  \n",
            "61066        NaN      0.0        1.0           2.656437      0.0     2.0  \n",
            "61067        NaN      0.0        1.0           2.656437      0.0     2.0  \n",
            "61068        NaN      0.0        1.0           2.656437      0.0     2.0  \n",
            "\n",
            "[61069 rows x 21 columns]\n"
          ]
        }
      ]
    },
    {
      "cell_type": "markdown",
      "source": [
        "Ya con los datos listos podemos guardarlos en un archivo y exportarlo para que sea utilizado y calcular los datos correspondientes"
      ],
      "metadata": {
        "id": "-wZrfxQYnsl5"
      }
    },
    {
      "cell_type": "code",
      "source": [
        "dataframe.to_csv(\"secondary_mushroom_dataset.csv\")"
      ],
      "metadata": {
        "id": "4wU2lWyPn0Is"
      },
      "execution_count": null,
      "outputs": []
    },
    {
      "cell_type": "markdown",
      "source": [
        "# Regresion logística\n",
        "En la siguiente regresión se procederá a entrenarlo con el 80% de los datos ya tratados y realizar la prueba con el restante, para dicho cálculo el siguiente dataset cuenta con 61069 datos, por lo que el 80% 48855 aprox serán destinados al entrenamiento, mientras que el resto servirá para probar el entrenamiento."
      ],
      "metadata": {
        "id": "czzzefLAn1iw"
      }
    },
    {
      "cell_type": "code",
      "source": [
        "import os\n",
        "import numpy as np\n",
        "from matplotlib import pyplot\n",
        "from scipy import optimize\n",
        "%matplotlib inline"
      ],
      "metadata": {
        "id": "BC4QJgjspA14"
      },
      "execution_count": 11,
      "outputs": []
    },
    {
      "cell_type": "markdown",
      "source": [
        "La y se encuentra en la primera columna, pero debido al tratamiento de datos con pandas, es que se genera una columna extra de enumeramiento, es por eso que los datos son cargados apartir de la segunda posición 1, y los features comenzarían apartir de la tercera posición 2"
      ],
      "metadata": {
        "id": "E_Yu_LuFpaWe"
      }
    },
    {
      "cell_type": "code",
      "source": [
        "data = np.loadtxt('/content/gdrive/MyDrive/Machine learning/Datasets/secondary_mushroom_dataset.csv', delimiter=',')\n",
        "y = data[:, 1]  # Primera columna\n",
        "X = data[:, 2:]  # Resto de las columnas\n",
        "# Dividir los datos en conjuntos de entrenamiento y prueba\n",
        "X_train, y_train = X[:48856], y[:48856]\n",
        "X_test, y_test = X[48855:], y[48855:]\n",
        "X = X_train\n",
        "y = y_train\n",
        "print(X)\n",
        "print(y)"
      ],
      "metadata": {
        "colab": {
          "base_uri": "https://localhost:8080/"
        },
        "id": "hTeCIPO-pGM5",
        "outputId": "03fcd343-9c97-4000-c6b6-08cebc456cdd"
      },
      "execution_count": 13,
      "outputs": [
        {
          "output_type": "stream",
          "name": "stdout",
          "text": [
            "[[15.26        6.          2.         ...  2.65643689  0.\n",
            "   3.        ]\n",
            " [16.6         6.          2.         ...  2.65643689  0.\n",
            "   2.        ]\n",
            " [14.07        6.          2.         ...  2.65643689  0.\n",
            "   3.        ]\n",
            " ...\n",
            " [10.76        6.          8.         ...  2.65643689  0.\n",
            "   0.        ]\n",
            " [11.92        6.          3.         ...  2.65643689  0.\n",
            "   0.        ]\n",
            " [12.09        6.          3.         ...  2.65643689  0.\n",
            "   0.        ]]\n",
            "[0. 0. 0. ... 1. 1. 1.]\n"
          ]
        }
      ]
    },
    {
      "cell_type": "markdown",
      "source": [
        "Función de la sigmoide, permite calcular la probabilidad de que sea un determinado valor."
      ],
      "metadata": {
        "id": "4Nn3JzNcpvFR"
      }
    },
    {
      "cell_type": "code",
      "source": [
        "def sigmoid(z):\n",
        "    z = np.array(z)\n",
        "    g = np.zeros(z.shape)\n",
        "    g = 1 / (1 + np.exp(-z))\n",
        "    return g"
      ],
      "metadata": {
        "id": "vhyK0uL0p8rB"
      },
      "execution_count": 14,
      "outputs": []
    },
    {
      "cell_type": "markdown",
      "source": [
        "Los valores deben ser normalizados para no tener problemas con las distintas escalas utilizadas, por lo que se realiza el siguiente función y se la llama."
      ],
      "metadata": {
        "id": "QNLuDntoqBNX"
      }
    },
    {
      "cell_type": "code",
      "source": [
        "def  featureNormalize(X):\n",
        "    X_norm = X.copy()\n",
        "    mu = np.zeros(X.shape[1])\n",
        "    sigma = np.zeros(X.shape[1])\n",
        "\n",
        "    mu = np.mean(X, axis = 0)\n",
        "    sigma = np.std(X, axis = 0)\n",
        "    print(sigma)\n",
        "    X_norm = (X - mu) / sigma\n",
        "\n",
        "    return X_norm, mu, sigma"
      ],
      "metadata": {
        "id": "EsJmopTxqOic"
      },
      "execution_count": 15,
      "outputs": []
    },
    {
      "cell_type": "code",
      "source": [
        "X_norm, mu, sigma = featureNormalize(X)"
      ],
      "metadata": {
        "colab": {
          "base_uri": "https://localhost:8080/"
        },
        "id": "V91rHXs5qQA2",
        "outputId": "276677c7-b468-4eb0-ae91-3ca8d4e6b552"
      },
      "execution_count": 16,
      "outputs": [
        {
          "output_type": "stream",
          "name": "stdout",
          "text": [
            "[3.87458785 2.25000176 2.86241283 3.14919065 0.36832549 2.15511231\n",
            " 0.34647004 2.8817067  3.34727885 8.66856754 0.72034998 1.06142352\n",
            " 3.09135228 0.44256951 1.5921718  0.62983399 1.33373797 1.10763492]\n"
          ]
        }
      ]
    },
    {
      "cell_type": "markdown",
      "source": [
        "Se añade la columna de x0 según en tamaño de la matriz"
      ],
      "metadata": {
        "id": "nKDIlFaHqTv9"
      }
    },
    {
      "cell_type": "code",
      "source": [
        "m, n = X.shape\n",
        "X = np.concatenate([np.ones((m, 1)), X_norm], axis=1)"
      ],
      "metadata": {
        "id": "0IsV2KaMqaOs"
      },
      "execution_count": 17,
      "outputs": []
    },
    {
      "cell_type": "markdown",
      "source": [
        "Se definen las funciones de el descenso de gradiente y función de costo, esta vez utilizando las funciones necesarias para el tipo de resultado que se tendrá en y, que sería 0 o 1."
      ],
      "metadata": {
        "id": "wiSZzAWXqe5J"
      }
    },
    {
      "cell_type": "code",
      "source": [
        "def calcularCosto(theta, X, y):\n",
        "    m = y.size\n",
        "    J = 0\n",
        "    h = sigmoid(X.dot(theta.T))\n",
        "    J = (1 / m) * np.sum(-y.dot(np.log(h)) - (1 - y).dot(np.log(1 - h)))\n",
        "\n",
        "    return J"
      ],
      "metadata": {
        "id": "Q5Q9UVSMq8Ey"
      },
      "execution_count": 18,
      "outputs": []
    },
    {
      "cell_type": "code",
      "source": [
        "def descensoGradiente(theta, X, y, alpha, num_iters):\n",
        "    m = y.shape[0]\n",
        "    theta = theta.copy()\n",
        "    J_history = []\n",
        "\n",
        "    for i in range(num_iters):\n",
        "        h = sigmoid(X.dot(theta.T))\n",
        "        theta = theta - (alpha / m) * (h - y).dot(X)\n",
        "\n",
        "        J_history.append(calcularCosto(theta, X, y))\n",
        "    return theta, J_history"
      ],
      "metadata": {
        "id": "mONgb2UQrEVp"
      },
      "execution_count": 19,
      "outputs": []
    },
    {
      "cell_type": "markdown",
      "source": [
        "# Descenso de gradiente aplicado\n",
        "\n",
        "Con las 4000 iteraciones y con un valor de alfa de 0.03 es que la función ya converge."
      ],
      "metadata": {
        "id": "y31j6TaqrIJ_"
      }
    },
    {
      "cell_type": "code",
      "source": [
        "\n",
        "alpha = 0.03\n",
        "num_iters = 4000\n",
        "\n",
        "theta = np.zeros(19)\n",
        "theta, J_history = descensoGradiente(theta, X, y, alpha, num_iters)\n",
        "\n",
        "pyplot.plot(np.arange(len(J_history)), J_history, lw=2)\n",
        "pyplot.xlabel('Numero de iteraciones')\n",
        "pyplot.ylabel('Costo J')\n",
        "\n",
        "print('theta calculado por el descenso por el gradiente: {:s}'.format(str(theta)))"
      ],
      "metadata": {
        "colab": {
          "base_uri": "https://localhost:8080/",
          "height": 518
        },
        "id": "kmOF69ZNrHt1",
        "outputId": "fbc113a7-37e2-4471-8cb0-1f8fe3cfd0c5"
      },
      "execution_count": 20,
      "outputs": [
        {
          "output_type": "stream",
          "name": "stdout",
          "text": [
            "theta calculado por el descenso por el gradiente: [-0.30462084  0.43452084  0.17051502 -0.02799198 -0.03733867 -0.08276182\n",
            " -0.03175119  0.15191227 -0.09417643  0.10899679  0.18964501 -0.4332297\n",
            "  0.14929461  0.14351867 -0.29143356 -0.17609375  0.15105586  0.28103921\n",
            "  0.21969035]\n"
          ]
        },
        {
          "output_type": "display_data",
          "data": {
            "text/plain": [
              "<Figure size 640x480 with 1 Axes>"
            ],
            "image/png": "[encoded data removed]"
          },
          "metadata": {}
        }
      ]
    },
    {
      "cell_type": "markdown",
      "source": [
        "Una vez obtenidos los valores de theta es que puede comenzar a realizarse la prueba, la cual será hecha con el 20% restante ya definidos al principio de la aplicación.\n",
        "# Prueba de los datos\n",
        "\n",
        "Primero los datos son normalizados"
      ],
      "metadata": {
        "id": "kZRdF1Q7ri2A"
      }
    },
    {
      "cell_type": "code",
      "source": [
        "X_test_norm, mu, sigma = featureNormalize(X_test)\n",
        "m, n = X_test_norm.shape\n"
      ],
      "metadata": {
        "colab": {
          "base_uri": "https://localhost:8080/"
        },
        "id": "9SkwZP8UrzHX",
        "outputId": "c16da18f-c193-42a4-cc95-2ffabc5416d2"
      },
      "execution_count": 41,
      "outputs": [
        {
          "output_type": "stream",
          "name": "stdout",
          "text": [
            "[ 8.50475456  1.58070648  2.83177761  3.25354798  0.41402032  0.9614922\n",
            "  0.78683352  3.96203999  3.27553528 12.50160112  0.41736561  1.69201105\n",
            "  3.51467027  0.37859924  0.6723798   0.5966961   0.84610172  1.07060869]\n"
          ]
        }
      ]
    },
    {
      "cell_type": "markdown",
      "source": [
        "Se añade la columna de x0 a x test"
      ],
      "metadata": {
        "id": "wxoIvZ7vr94P"
      }
    },
    {
      "cell_type": "code",
      "source": [
        "X_test_norm = np.concatenate([np.ones((m, 1)), X_test_norm], axis=1)\n"
      ],
      "metadata": {
        "id": "ESejtPeBsCuY"
      },
      "execution_count": 42,
      "outputs": []
    },
    {
      "cell_type": "markdown",
      "source": [
        "Se aplica la función de la sigmoide a los datos y luego se los visualiza"
      ],
      "metadata": {
        "id": "tTZvgRgLsGwA"
      }
    },
    {
      "cell_type": "code",
      "source": [
        "esComestible = sigmoid(np.dot(X_test_norm, theta))\n",
        "print(esComestible)\n",
        "print(y_test)"
      ],
      "metadata": {
        "colab": {
          "base_uri": "https://localhost:8080/"
        },
        "id": "MOlE_xyAsFg1",
        "outputId": "1be92d81-7f58-49ce-d821-d8c673491861"
      },
      "execution_count": 43,
      "outputs": [
        {
          "output_type": "stream",
          "name": "stdout",
          "text": [
            "[0.42543506 0.54253525 0.52901233 ... 0.48512163 0.39920652 0.47529646]\n",
            "[1. 1. 1. ... 0. 0. 0.]\n"
          ]
        }
      ]
    },
    {
      "cell_type": "markdown",
      "source": [
        "Podemos comprobar los valores de la prueba una vez que los datos de x_test están completos y también visualizar los datos de y_test\n",
        "\n",
        "1 ------------> COMESTIBLE\n",
        "0 ------------> VENENOSO"
      ],
      "metadata": {
        "id": "NVE7XuJ2skAw"
      }
    },
    {
      "cell_type": "markdown",
      "source": [
        "Podemos visualizar los datos obtnidos comparados con sus respectivas y para evaluar el entrenamiento"
      ],
      "metadata": {
        "id": "cJu98o8zuzb8"
      }
    },
    {
      "cell_type": "code",
      "source": [
        "X_test_resultado = esComestible.copy()\n",
        "print(X_test_resultado.shape[0])\n",
        "\n",
        "y_test_resultado = y_test.copy()\n",
        "X_test_resultado= X_test_resultado.reshape(-1, 1)\n",
        "y_test_resultado= y_test_resultado.reshape(-1, 1)\n",
        "X_test_resultado = np.concatenate([ X_test_resultado, y_test_resultado], axis=1)\n",
        "\n",
        "comparacion = pd.DataFrame(X_test_resultado)\n",
        "\n",
        "print(comparacion)"
      ],
      "metadata": {
        "colab": {
          "base_uri": "https://localhost:8080/"
        },
        "id": "x2bv9pXouytC",
        "outputId": "71c5b922-0438-460b-f481-e55d27b68718"
      },
      "execution_count": 46,
      "outputs": [
        {
          "output_type": "stream",
          "name": "stdout",
          "text": [
            "12214\n",
            "              0    1\n",
            "0      0.425435  1.0\n",
            "1      0.542535  1.0\n",
            "2      0.529012  1.0\n",
            "3      0.498721  1.0\n",
            "4      0.418176  1.0\n",
            "...         ...  ...\n",
            "12209  0.383557  0.0\n",
            "12210  0.303552  0.0\n",
            "12211  0.485122  0.0\n",
            "12212  0.399207  0.0\n",
            "12213  0.475296  0.0\n",
            "\n",
            "[12214 rows x 2 columns]\n"
          ]
        }
      ]
    }
  ]
}
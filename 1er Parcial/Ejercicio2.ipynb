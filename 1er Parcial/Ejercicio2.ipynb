{
  "nbformat": 4,
  "nbformat_minor": 0,
  "metadata": {
    "colab": {
      "provenance": [],
      "name": "Ejercicio2.ipynb",
      "authorship_tag": "ABX9TyMrHAoJU5AiAhTEMEfIahRl",
      "include_colab_link": true
    },
    "kernelspec": {
      "name": "python3",
      "display_name": "Python 3"
    },
    "language_info": {
      "name": "python"
    }
  },
  "cells": [
    {
      "cell_type": "markdown",
      "metadata": {
        "id": "view-in-github",
        "colab_type": "text"
      },
      "source": [
        "<a href=\"https://colab.research.google.com/github/Prisci723/InteligenciaArtificial1/blob/main/1er%20Parcial/Ejercicio2.ipynb\" target=\"_parent\"><img src=\"https://colab.research.google.com/assets/colab-badge.svg\" alt=\"Open In Colab\"/></a>"
      ]
    },
    {
      "cell_type": "code",
      "execution_count": null,
      "metadata": {
        "colab": {
          "base_uri": "https://localhost:8080/"
        },
        "id": "vPleQp22DUNh",
        "outputId": "78d5204c-d250-4201-d707-762e18a6824a"
      },
      "outputs": [
        {
          "output_type": "stream",
          "name": "stdout",
          "text": [
            "Drive already mounted at /content/gdrive; to attempt to forcibly remount, call drive.mount(\"/content/gdrive\", force_remount=True).\n"
          ]
        }
      ],
      "source": [
        "from google.colab import drive\n",
        "drive.mount(\"/content/gdrive\")\n",
        "\n",
        "import pandas as pd"
      ]
    },
    {
      "cell_type": "code",
      "source": [
        "dataframe = pd.read_csv(\"/content/gdrive/MyDrive/Airbnb_Data.csv\", sep=\",\")\n",
        "print(dataframe)"
      ],
      "metadata": {
        "colab": {
          "base_uri": "https://localhost:8080/"
        },
        "id": "kK9zA-mfD0bH",
        "outputId": "0aa10316-cde7-4d99-8d5c-e19544f27f28"
      },
      "execution_count": null,
      "outputs": [
        {
          "output_type": "stream",
          "name": "stdout",
          "text": [
            "             id  log_price property_type        room_type  \\\n",
            "0       6901257   5.010635     Apartment  Entire home/apt   \n",
            "1       6304928   5.129899     Apartment  Entire home/apt   \n",
            "2       7919400   4.976734     Apartment  Entire home/apt   \n",
            "3      13418779   6.620073         House  Entire home/apt   \n",
            "4       3808709   4.744932     Apartment  Entire home/apt   \n",
            "...         ...        ...           ...              ...   \n",
            "74106  14549287   4.605170     Apartment     Private room   \n",
            "74107  13281809   5.043425     Apartment  Entire home/apt   \n",
            "74108  18688039   5.220356     Apartment  Entire home/apt   \n",
            "74109  17045948   5.273000     Apartment  Entire home/apt   \n",
            "74110   3534845   4.852030          Boat  Entire home/apt   \n",
            "\n",
            "                                               amenities  accommodates  \\\n",
            "0      {\"Wireless Internet\",\"Air conditioning\",Kitche...             3   \n",
            "1      {\"Wireless Internet\",\"Air conditioning\",Kitche...             7   \n",
            "2      {TV,\"Cable TV\",\"Wireless Internet\",\"Air condit...             5   \n",
            "3      {TV,\"Cable TV\",Internet,\"Wireless Internet\",Ki...             4   \n",
            "4      {TV,Internet,\"Wireless Internet\",\"Air conditio...             2   \n",
            "...                                                  ...           ...   \n",
            "74106                                                 {}             1   \n",
            "74107  {TV,\"Cable TV\",Internet,\"Wireless Internet\",Ki...             4   \n",
            "74108  {TV,Internet,\"Wireless Internet\",\"Air conditio...             5   \n",
            "74109  {TV,\"Wireless Internet\",\"Air conditioning\",Kit...             2   \n",
            "74110  {TV,Internet,\"Wireless Internet\",Kitchen,\"Free...             4   \n",
            "\n",
            "       bathrooms  bed_type cancellation_policy  cleaning_fee  ...   latitude  \\\n",
            "0            1.0  Real Bed              strict          True  ...  40.696524   \n",
            "1            1.0  Real Bed              strict          True  ...  40.766115   \n",
            "2            1.0  Real Bed            moderate          True  ...  40.808110   \n",
            "3            1.0  Real Bed            flexible          True  ...  37.772004   \n",
            "4            1.0  Real Bed            moderate          True  ...  38.925627   \n",
            "...          ...       ...                 ...           ...  ...        ...   \n",
            "74106        1.0  Real Bed            flexible         False  ...  40.709025   \n",
            "74107        2.0  Real Bed            moderate          True  ...  33.871549   \n",
            "74108        1.0  Real Bed            moderate          True  ...  40.706749   \n",
            "74109        1.0  Real Bed              strict          True  ...  40.738535   \n",
            "74110        1.0  Real Bed            moderate         False  ...  33.761096   \n",
            "\n",
            "        longitude                                        name  \\\n",
            "0      -73.991617              Beautiful brownstone 1-bedroom   \n",
            "1      -73.989040    Superb 3BR Apt Located Near Times Square   \n",
            "2      -73.943756                            The Garden Oasis   \n",
            "3     -122.431619          Beautiful Flat in the Heart of SF!   \n",
            "4      -77.034596                  Great studio in midtown DC   \n",
            "...           ...                                         ...   \n",
            "74106  -73.939405                           one room bushwick   \n",
            "74107 -118.396053                Spacious Hermosa 2 BR on PCH   \n",
            "74108  -73.942377  Modern 2 Bedroom Apartment in Williamsburg   \n",
            "74109  -74.000157        Designer's Apartment in HEART of NYC   \n",
            "74110 -118.192409              Cozy Boat at Shoreline Village   \n",
            "\n",
            "          neighbourhood number_of_reviews review_scores_rating  \\\n",
            "0      Brooklyn Heights                 2                100.0   \n",
            "1        Hell's Kitchen                 6                 93.0   \n",
            "2                Harlem                10                 92.0   \n",
            "3          Lower Haight                 0                  NaN   \n",
            "4      Columbia Heights                 4                 40.0   \n",
            "...                 ...               ...                  ...   \n",
            "74106      Williamsburg                 0                  NaN   \n",
            "74107     Hermosa Beach                16                 93.0   \n",
            "74108      Williamsburg                43                 94.0   \n",
            "74109      West Village                 0                  NaN   \n",
            "74110        Long Beach               205                 96.0   \n",
            "\n",
            "                                           thumbnail_url  zipcode bedrooms  \\\n",
            "0      https://a0.muscache.com/im/pictures/6d7cbbf7-c...    11201      1.0   \n",
            "1      https://a0.muscache.com/im/pictures/348a55fe-4...    10019      3.0   \n",
            "2      https://a0.muscache.com/im/pictures/6fae5362-9...    10027      1.0   \n",
            "3      https://a0.muscache.com/im/pictures/72208dad-9...  94117.0      2.0   \n",
            "4                                                    NaN    20009      0.0   \n",
            "...                                                  ...      ...      ...   \n",
            "74106  https://a0.muscache.com/im/pictures/55162426/6...  11206.0      1.0   \n",
            "74107  https://a0.muscache.com/im/pictures/2b86560b-a...    90254      2.0   \n",
            "74108  https://a0.muscache.com/im/pictures/7fbe448c-5...  11206.0      2.0   \n",
            "74109  https://a0.muscache.com/im/pictures/b3971b63-0...    10011      0.0   \n",
            "74110  https://a0.muscache.com/im/pictures/22968537/d...    90802      1.0   \n",
            "\n",
            "       beds  \n",
            "0       1.0  \n",
            "1       3.0  \n",
            "2       3.0  \n",
            "3       2.0  \n",
            "4       1.0  \n",
            "...     ...  \n",
            "74106   1.0  \n",
            "74107   4.0  \n",
            "74108   2.0  \n",
            "74109   2.0  \n",
            "74110   2.0  \n",
            "\n",
            "[74111 rows x 29 columns]\n"
          ]
        }
      ]
    },
    {
      "cell_type": "code",
      "source": [
        "dataframe['room_type'].unique()"
      ],
      "metadata": {
        "colab": {
          "base_uri": "https://localhost:8080/"
        },
        "id": "8nWf3D_1HrVn",
        "outputId": "d2461854-6c3f-4cf0-aa2e-d8a666d1e8d3"
      },
      "execution_count": null,
      "outputs": [
        {
          "output_type": "execute_result",
          "data": {
            "text/plain": [
              "array(['Entire home/apt', 'Private room', 'Shared room'], dtype=object)"
            ]
          },
          "metadata": {},
          "execution_count": 42
        }
      ]
    },
    {
      "cell_type": "code",
      "source": [
        "del dataframe['amenities']\n",
        "del dataframe['description']\n",
        "del dataframe['first_review']\n",
        "del dataframe['host_since']\n",
        "del dataframe['last_review']\n",
        "del dataframe['name']\n",
        "del dataframe['neighbourhood']\n",
        "del dataframe['thumbnail_url']\n",
        "del dataframe['zipcode']\n",
        "del dataframe['id']"
      ],
      "metadata": {
        "id": "EAjTcd3gIPqJ"
      },
      "execution_count": null,
      "outputs": []
    },
    {
      "cell_type": "code",
      "source": [
        "print(dataframe)"
      ],
      "metadata": {
        "colab": {
          "base_uri": "https://localhost:8080/"
        },
        "id": "NOWzrB8eKLd4",
        "outputId": "95e2c17c-72bc-4def-cba3-2a107797a0cd"
      },
      "execution_count": null,
      "outputs": [
        {
          "output_type": "stream",
          "name": "stdout",
          "text": [
            "       log_price property_type        room_type  accommodates  bathrooms  \\\n",
            "0       5.010635     Apartment  Entire home/apt             3        1.0   \n",
            "1       5.129899     Apartment  Entire home/apt             7        1.0   \n",
            "2       4.976734     Apartment  Entire home/apt             5        1.0   \n",
            "3       6.620073         House  Entire home/apt             4        1.0   \n",
            "4       4.744932     Apartment  Entire home/apt             2        1.0   \n",
            "...          ...           ...              ...           ...        ...   \n",
            "74106   4.605170     Apartment     Private room             1        1.0   \n",
            "74107   5.043425     Apartment  Entire home/apt             4        2.0   \n",
            "74108   5.220356     Apartment  Entire home/apt             5        1.0   \n",
            "74109   5.273000     Apartment  Entire home/apt             2        1.0   \n",
            "74110   4.852030          Boat  Entire home/apt             4        1.0   \n",
            "\n",
            "       bed_type cancellation_policy  cleaning_fee city host_has_profile_pic  \\\n",
            "0      Real Bed              strict          True  NYC                    t   \n",
            "1      Real Bed              strict          True  NYC                    t   \n",
            "2      Real Bed            moderate          True  NYC                    t   \n",
            "3      Real Bed            flexible          True   SF                    t   \n",
            "4      Real Bed            moderate          True   DC                    t   \n",
            "...         ...                 ...           ...  ...                  ...   \n",
            "74106  Real Bed            flexible         False  NYC                    t   \n",
            "74107  Real Bed            moderate          True   LA                    t   \n",
            "74108  Real Bed            moderate          True  NYC                    t   \n",
            "74109  Real Bed              strict          True  NYC                    t   \n",
            "74110  Real Bed            moderate         False   LA                    t   \n",
            "\n",
            "      host_identity_verified host_response_rate instant_bookable   latitude  \\\n",
            "0                          t                NaN                f  40.696524   \n",
            "1                          f               100%                t  40.766115   \n",
            "2                          t               100%                t  40.808110   \n",
            "3                          t                NaN                f  37.772004   \n",
            "4                          t               100%                t  38.925627   \n",
            "...                      ...                ...              ...        ...   \n",
            "74106                      t                NaN                f  40.709025   \n",
            "74107                      f               100%                f  33.871549   \n",
            "74108                      t               100%                t  40.706749   \n",
            "74109                      f               100%                t  40.738535   \n",
            "74110                      t               100%                f  33.761096   \n",
            "\n",
            "        longitude  number_of_reviews  review_scores_rating  bedrooms  beds  \n",
            "0      -73.991617                  2                 100.0       1.0   1.0  \n",
            "1      -73.989040                  6                  93.0       3.0   3.0  \n",
            "2      -73.943756                 10                  92.0       1.0   3.0  \n",
            "3     -122.431619                  0                   NaN       2.0   2.0  \n",
            "4      -77.034596                  4                  40.0       0.0   1.0  \n",
            "...           ...                ...                   ...       ...   ...  \n",
            "74106  -73.939405                  0                   NaN       1.0   1.0  \n",
            "74107 -118.396053                 16                  93.0       2.0   4.0  \n",
            "74108  -73.942377                 43                  94.0       2.0   2.0  \n",
            "74109  -74.000157                  0                   NaN       0.0   2.0  \n",
            "74110 -118.192409                205                  96.0       1.0   2.0  \n",
            "\n",
            "[74111 rows x 19 columns]\n"
          ]
        }
      ]
    },
    {
      "cell_type": "code",
      "source": [
        "dataframe['city'].unique()"
      ],
      "metadata": {
        "colab": {
          "base_uri": "https://localhost:8080/"
        },
        "id": "rIXLz1z7KNVL",
        "outputId": "71c3132c-ace4-44c4-c2ff-12808489bdc0"
      },
      "execution_count": null,
      "outputs": [
        {
          "output_type": "execute_result",
          "data": {
            "text/plain": [
              "array(['NYC', 'SF', 'DC', 'LA', 'Chicago', 'Boston'], dtype=object)"
            ]
          },
          "metadata": {},
          "execution_count": 13
        }
      ]
    },
    {
      "cell_type": "code",
      "source": [
        "from sklearn.preprocessing import OrdinalEncoder"
      ],
      "metadata": {
        "id": "NrE7iqmJK3vb"
      },
      "execution_count": null,
      "outputs": []
    },
    {
      "cell_type": "code",
      "source": [
        "enc = OrdinalEncoder()"
      ],
      "metadata": {
        "id": "fzu8TXuDK6kf"
      },
      "execution_count": null,
      "outputs": []
    },
    {
      "cell_type": "code",
      "source": [
        "non_numeric_columns = dataframe.apply(lambda x: pd.to_numeric(x, errors='coerce')).isnull().any()\n",
        "print(\"Valores no numéricos en las columnas:\")\n",
        "print(non_numeric_columns)"
      ],
      "metadata": {
        "colab": {
          "base_uri": "https://localhost:8080/"
        },
        "id": "UVLB0QDPLagz",
        "outputId": "395064d6-8afa-42cf-cb4f-ca7be1f51ddd"
      },
      "execution_count": null,
      "outputs": [
        {
          "output_type": "stream",
          "name": "stdout",
          "text": [
            "Valores no numéricos en las columnas:\n",
            "log_price                 False\n",
            "property_type              True\n",
            "room_type                  True\n",
            "accommodates              False\n",
            "bathrooms                  True\n",
            "bed_type                   True\n",
            "cancellation_policy        True\n",
            "cleaning_fee              False\n",
            "city                       True\n",
            "host_has_profile_pic       True\n",
            "host_identity_verified     True\n",
            "host_response_rate         True\n",
            "instant_bookable           True\n",
            "latitude                  False\n",
            "longitude                 False\n",
            "number_of_reviews         False\n",
            "review_scores_rating       True\n",
            "bedrooms                   True\n",
            "beds                       True\n",
            "dtype: bool\n"
          ]
        }
      ]
    },
    {
      "cell_type": "code",
      "source": [
        "dataframe['city'].replace(['NYC', 'SF', 'DC', 'LA', 'Chicago', 'Boston'],\n",
        "                        [0,1,2,3,4,5 ], inplace=True)"
      ],
      "metadata": {
        "id": "DBrny06vS963"
      },
      "execution_count": null,
      "outputs": []
    },
    {
      "cell_type": "code",
      "source": [
        "dataframe['cleaning_fee'].replace(['True', 'False'],\n",
        "                        [1, 0], inplace=True)"
      ],
      "metadata": {
        "id": "9jUhj_G2S1YR"
      },
      "execution_count": null,
      "outputs": []
    },
    {
      "cell_type": "code",
      "source": [
        "dataframe['property_type'] = enc.fit_transform(dataframe[['property_type']])\n",
        "dataframe['room_type'] = enc.fit_transform(dataframe[['room_type']])\n",
        "dataframe['bathrooms'] = enc.fit_transform(dataframe[['bathrooms']])\n",
        "dataframe['bed_type'] = enc.fit_transform(dataframe[['bed_type']])\n",
        "dataframe['cancellation_policy'] = enc.fit_transform(dataframe[['cancellation_policy']])\n",
        "dataframe['host_has_profile_pic'] = enc.fit_transform(dataframe[['host_has_profile_pic']])\n",
        "dataframe['host_identity_verified'] = enc.fit_transform(dataframe[['host_identity_verified']])\n",
        "dataframe['host_response_rate'] = enc.fit_transform(dataframe[['host_response_rate']])\n",
        "dataframe['instant_bookable'] = enc.fit_transform(dataframe[['instant_bookable']])\n",
        "dataframe['review_scores_rating'] = enc.fit_transform(dataframe[['review_scores_rating']])\n",
        "dataframe['bedrooms'] = enc.fit_transform(dataframe[['bedrooms']])\n",
        "dataframe['beds'] = enc.fit_transform(dataframe[['beds']])"
      ],
      "metadata": {
        "id": "27Nq5ModKv1u"
      },
      "execution_count": null,
      "outputs": []
    },
    {
      "cell_type": "code",
      "source": [
        "print(dataframe.isnull().any())"
      ],
      "metadata": {
        "colab": {
          "base_uri": "https://localhost:8080/"
        },
        "id": "dn-HkIypM2wp",
        "outputId": "bcedca9b-e082-4245-ee89-c9b7dca6e546"
      },
      "execution_count": null,
      "outputs": [
        {
          "output_type": "stream",
          "name": "stdout",
          "text": [
            "log_price                 False\n",
            "property_type             False\n",
            "room_type                 False\n",
            "accommodates              False\n",
            "bathrooms                  True\n",
            "bed_type                  False\n",
            "cancellation_policy       False\n",
            "cleaning_fee              False\n",
            "city                      False\n",
            "host_has_profile_pic       True\n",
            "host_identity_verified     True\n",
            "host_response_rate         True\n",
            "instant_bookable          False\n",
            "latitude                  False\n",
            "longitude                 False\n",
            "number_of_reviews         False\n",
            "review_scores_rating       True\n",
            "bedrooms                   True\n",
            "beds                       True\n",
            "dtype: bool\n"
          ]
        }
      ]
    },
    {
      "cell_type": "code",
      "source": [
        "mean_b = dataframe['bathrooms'].mean()\n",
        "dataframe['bathrooms'] = dataframe['bathrooms'].fillna(mean_b)\n",
        "mean_hp = dataframe['host_has_profile_pic'].mean()\n",
        "dataframe['host_has_profile_pic'] = dataframe['host_has_profile_pic'].fillna(mean_hp)\n",
        "mean_hv = dataframe[\"host_identity_verified\"].mean()\n",
        "dataframe[\"host_identity_verified\"] = dataframe[\"host_identity_verified\"].fillna(mean_hv)\n",
        "mean_hr = dataframe[\"host_response_rate\"].mean()\n",
        "dataframe[\"host_response_rate\"] = dataframe[\"host_response_rate\"].fillna(mean_hr)\n",
        "mean_b = dataframe[\"bedrooms\"].mean()\n",
        "dataframe[\"bedrooms\"] = dataframe[\"bedrooms\"].fillna(mean_b)\n",
        "mean_rs = dataframe[\"review_scores_rating\"].mean()\n",
        "dataframe[\"review_scores_rating\"] = dataframe[\"review_scores_rating\"].fillna(mean_rs)\n",
        "mean_hr = dataframe[\"beds\"].mean()\n",
        "dataframe[\"beds\"] = dataframe[\"beds\"].fillna(mean_hr)"
      ],
      "metadata": {
        "id": "mlmfTpyiM7Vd"
      },
      "execution_count": null,
      "outputs": []
    },
    {
      "cell_type": "markdown",
      "source": [],
      "metadata": {
        "id": "h7oXecfZP3-0"
      }
    },
    {
      "cell_type": "code",
      "source": [
        "dataframe.to_csv('Airbnb_Data_clean.csv', index=False)"
      ],
      "metadata": {
        "id": "6RtHy1_9QD-2"
      },
      "execution_count": null,
      "outputs": []
    },
    {
      "cell_type": "code",
      "source": [
        "import os\n",
        "import numpy as np\n",
        "from matplotlib import pyplot\n",
        "import matplotlib.pyplot as plt\n",
        "from scipy import optimize\n",
        "%matplotlib inline"
      ],
      "metadata": {
        "id": "ei8YtX1fRxcw"
      },
      "execution_count": null,
      "outputs": []
    },
    {
      "cell_type": "code",
      "source": [
        "data = np.loadtxt(\"/content/gdrive/MyDrive/Ecoating_ultrafiltration_clean.csv\", delimiter=',')\n",
        "y = data[:, 0]  # Primera columna\n",
        "X = data[:, 1:]  # Resto de las columnas\n",
        "# Dividir los datos en conjuntos de entrenamiento y prueba\n",
        "# X_train, y_train = X[:88513], y[:88513]\n",
        "# X_test, y_test = X[88513:], y[88513:]\n",
        "X_train, y_train = X[:813], y[:813]\n",
        "X_test, y_test = X[813:], y[813:]\n",
        "\n",
        "X = X_train\n",
        "y = y_train\n",
        "print(X)\n",
        "print(y)"
      ],
      "metadata": {
        "id": "ju3f-7r5R2Kd"
      },
      "execution_count": null,
      "outputs": []
    },
    {
      "cell_type": "code",
      "source": [
        "# Obtén el número de características (número de columnas en X)\n",
        "num_features = X.shape[1]\n",
        "\n",
        "# Itera sobre cada característica y crea un gráfico para visualizar su relación con el target\n",
        "for i in range(num_features):\n",
        "    plt.figure(figsize=(8, 6))\n",
        "    plt.scatter(X[:, i], y, alpha=0.5)\n",
        "    plt.title(f'Feature {i+1} vs Target')\n",
        "    plt.xlabel(f'Feature {i+1}')\n",
        "    plt.ylabel('Target')\n",
        "    plt.grid(True)\n",
        "    plt.show()"
      ],
      "metadata": {
        "id": "xhGWxifjR4gj"
      },
      "execution_count": null,
      "outputs": []
    },
    {
      "cell_type": "code",
      "source": [
        "X = np.concatenate([X, X * X], axis=1)"
      ],
      "metadata": {
        "id": "377Z4u2bR9A6"
      },
      "execution_count": null,
      "outputs": []
    },
    {
      "cell_type": "code",
      "source": [
        "def  featureNormalize(X):\n",
        "    X_norm = X.copy()\n",
        "    mu = np.zeros(X.shape[1])\n",
        "    sigma = np.zeros(X.shape[1])\n",
        "\n",
        "    mu = np.mean(X, axis = 0)\n",
        "    sigma = np.std(X, axis = 0)\n",
        "    X_norm = (X - mu) / sigma\n",
        "\n",
        "    return X_norm, mu, sigma"
      ],
      "metadata": {
        "id": "EpkDUMo0R_vc"
      },
      "execution_count": null,
      "outputs": []
    },
    {
      "cell_type": "code",
      "source": [
        "X_norm, mu, sigma = featureNormalize(X)\n",
        "\n",
        "print(X)\n",
        "print('Media calculada:', mu)\n",
        "print('Desviación estandar calculada:', sigma)\n",
        "print(X_norm)"
      ],
      "metadata": {
        "id": "9lIM7KJ2SBvG"
      },
      "execution_count": null,
      "outputs": []
    },
    {
      "cell_type": "code",
      "source": [
        "m = X.shape[0]\n",
        "X = np.concatenate([np.ones((m, 1)), X], axis=1)"
      ],
      "metadata": {
        "id": "3saHwpVsSFA7"
      },
      "execution_count": null,
      "outputs": []
    },
    {
      "cell_type": "code",
      "source": [
        "print(X.shape)"
      ],
      "metadata": {
        "id": "VtrkhPgGSG8r"
      },
      "execution_count": null,
      "outputs": []
    },
    {
      "cell_type": "code",
      "source": [
        "def computeCostMulti(X, y, theta):\n",
        "    m = y.shape[0]\n",
        "\n",
        "    J = 0\n",
        "\n",
        "    h = np.dot(X, theta)\n",
        "\n",
        "    J = (1/(2 * m)) * np.sum(np.square(h - y))\n",
        "\n",
        "    return J"
      ],
      "metadata": {
        "id": "WI8xRs0oSIot"
      },
      "execution_count": null,
      "outputs": []
    },
    {
      "cell_type": "code",
      "source": [
        "def gradientDescentMulti(X, y, theta, alpha, num_iters):\n",
        "\n",
        "    m = y.shape[0]\n",
        "    theta = theta.copy()\n",
        "    J_history = []\n",
        "\n",
        "    for i in range(num_iters):\n",
        "        theta = theta - (alpha / m) * (np.dot(X, theta) - y).dot(X)\n",
        "        J_history.append(computeCostMulti(X, y, theta))\n",
        "\n",
        "    return theta, J_history"
      ],
      "metadata": {
        "id": "3bkGe9vqSKrO"
      },
      "execution_count": null,
      "outputs": []
    },
    {
      "cell_type": "code",
      "source": [
        "alpha = 0.01\n",
        "num_iters = 5000\n",
        "X_rounded = np.round(X, decimals=2)\n",
        "Y_rounded = np.round(y, decimals=2)\n",
        "\n",
        "theta = np.zeros(7)\n",
        "theta, J_history = gradientDescentMulti(X_rounded, Y_rounded , theta, alpha, num_iters)\n",
        "\n",
        "\n",
        "pyplot.plot(np.arange(len(J_history)), J_history, lw=2)\n",
        "pyplot.xlabel('Numero de iteraciones')\n",
        "pyplot.ylabel('Costo J')\n",
        "\n",
        "\n",
        "print('theta calculado por el descenso por el gradiente: {:s}'.format(str(theta)))"
      ],
      "metadata": {
        "id": "NE6ibPSmSNbt"
      },
      "execution_count": null,
      "outputs": []
    }
  ]
}
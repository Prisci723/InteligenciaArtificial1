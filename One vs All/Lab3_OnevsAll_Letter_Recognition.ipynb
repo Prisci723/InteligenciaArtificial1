{
  "nbformat": 4,
  "nbformat_minor": 0,
  "metadata": {
    "colab": {
      "provenance": [],
      "authorship_tag": "ABX9TyOUYf6y3252lTTuIrSif2Cq",
      "include_colab_link": true
    },
    "kernelspec": {
      "name": "python3",
      "display_name": "Python 3"
    },
    "language_info": {
      "name": "python"
    }
  },
  "cells": [
    {
      "cell_type": "markdown",
      "metadata": {
        "id": "view-in-github",
        "colab_type": "text"
      },
      "source": [
        "<a href=\"https://colab.research.google.com/github/Prisci723/InteligenciaArtificial1/blob/main/One%20vs%20All/Lab3_OnevsAll_Letter_Recognition.ipynb\" target=\"_parent\"><img src=\"https://colab.research.google.com/assets/colab-badge.svg\" alt=\"Open In Colab\"/></a>"
      ]
    },
    {
      "cell_type": "markdown",
      "source": [
        "# Clasificación multiclase\n",
        "El siguiente dataset tiene como propósito entrenar de regresión logística (clasificación multiclase) utilizando el cuadernillo que avanzamos en clases, one vs. all.\n",
        "\n",
        "# Dataset\n",
        "El siguiente dataset posee de los datos relacionados a la identificación de las letras mayúsculas del alfabeto ingés.\n",
        "\n",
        "El siguiente dataset está compuesto por 16 features los cuales son:\n",
        "* x1: posicion de la x\n",
        "* x2: posicion en y\n",
        "* x3: ancho del cuadrado\n",
        "* x4: altura del cuadrado\n",
        "* x5: total de pixeles\n",
        "* x6: media de los pixeles en x\n",
        "* x7: media de los pixeles en y\n",
        "* x8: varianza de x\n",
        "* x9: varianza de y\n",
        "* x10: varianza de la correlación de xy\n",
        "* x11: media de x*x*y\n",
        "* x12: media de x*y*y\n",
        "* x13: media del borde contado de izquierda a derecha\n",
        "* x14: correlacion del eje x con y\n",
        "* x15: media del borde de y del fondo al tope\n",
        "* x16: correlacion del eje y con x\n",
        "\n",
        "\n",
        "y el target:\n",
        "* y: que letra es (A-Z)\n",
        "\n",
        "El dataset fue obtenido de la página:\n",
        "https://archive.ics.uci.edu/dataset/59/letter+recognition\n"
      ],
      "metadata": {
        "id": "7QjuplCQZqRQ"
      }
    },
    {
      "cell_type": "markdown",
      "source": [
        "# Tratamiento con pandas\n",
        "Como se puede observar el dataset viene en un archivo .csv por defecto el cual posee directamente todos los valores de los features con el target correspondiente, sin tener etiquetas en las columnas, por lo que manualmente, para facilitar el tratamiento es que se añadió una fila con los nombres de cada una.\n",
        "También se puede comprobar que los datos están completos y no requieren de un tratamiento profundo, simplemente el target, el cual posee datos de tipo caracter, por lo que se procede a cambiar las letras por numeros."
      ],
      "metadata": {
        "id": "8WqeZgjfcMl4"
      }
    },
    {
      "cell_type": "markdown",
      "source": [],
      "metadata": {
        "id": "Jif_HlBjZpO1"
      }
    },
    {
      "cell_type": "code",
      "source": [
        "from google.colab import drive\n",
        "drive.mount('/content/drive')"
      ],
      "metadata": {
        "colab": {
          "base_uri": "https://localhost:8080/"
        },
        "id": "2JrEgQ3ZdRoh",
        "outputId": "d5470e3a-3d89-4320-fe1b-e57e5c8ab56b"
      },
      "execution_count": 3,
      "outputs": [
        {
          "output_type": "stream",
          "name": "stdout",
          "text": [
            "Mounted at /content/drive\n"
          ]
        }
      ]
    },
    {
      "cell_type": "code",
      "source": [
        "import pandas as pd\n",
        "from sklearn.preprocessing import OrdinalEncoder\n",
        "#pandas para tratar los datos y OrdinalEncoder para transformar los caracteres en numeros"
      ],
      "metadata": {
        "id": "eCRfmLM4dFbX"
      },
      "execution_count": 4,
      "outputs": []
    },
    {
      "cell_type": "code",
      "source": [
        "dataframe = pd.read_csv(\"/content/drive/MyDrive/Machine learning/Datasets/letter_regonition.csv\", sep=\",\")\n",
        "print(dataframe)"
      ],
      "metadata": {
        "id": "e4hu3hJAdOsw"
      },
      "execution_count": null,
      "outputs": []
    },
    {
      "cell_type": "markdown",
      "source": [
        "Una vez que las librerías han sido cargadas, es que se procede a utilizarlas, lo que ocurre es que la columna de target 'y', los caracteres serán reemplazados por numeros de forma ordenada, es decir, que se tendrá el siguiente resultado.\n",
        "\n",
        "\n",
        "\n",
        "*   A --> 0\n",
        "*   B --> 1\n",
        "*  C --> 2\n",
        "* D --> 3\n",
        "* E --> 4\n",
        "* E --> 4\n",
        "* F --> 5\n",
        "* G --> 6\n",
        "* H --> 7\n",
        "* I --> 8\n",
        "* J --> 9\n",
        "* K --> 10\n",
        "* L --> 11\n",
        "* M  --> 12\n",
        "* N --> 13\n",
        "* O  --> 14\n",
        "* P  --> 15\n",
        "* Q  --> 16\n",
        "* R  --> 17\n",
        "* S  --> 18\n",
        "* T  --> 19\n",
        "* U  --> 20\n",
        "* V  --> 21\n",
        "* W  --> 22\n",
        "* X  --> 23\n",
        "* Y  --> 24\n",
        "* Z --> 25\n",
        "\n",
        "\n",
        "\n",
        "\n"
      ],
      "metadata": {
        "id": "JkgALfHvdap3"
      }
    },
    {
      "cell_type": "code",
      "source": [
        "enc = OrdinalEncoder()\n",
        "dataframe['y'] = enc.fit_transform(dataframe[['y']])\n",
        "print(dataframe)"
      ],
      "metadata": {
        "id": "373in1JzdXPQ"
      },
      "execution_count": null,
      "outputs": []
    },
    {
      "cell_type": "markdown",
      "source": [
        "Podemos comprobar que los datos de y, target, ahora son numericos y sevirán para ser aplicados dentro del código"
      ],
      "metadata": {
        "id": "CWA6P7z5e8Ii"
      }
    },
    {
      "cell_type": "code",
      "source": [
        "dataframe['y'].unique()"
      ],
      "metadata": {
        "id": "9r8tzw5qfI6e"
      },
      "execution_count": null,
      "outputs": []
    },
    {
      "cell_type": "markdown",
      "source": [
        "Procedemos a guardar el archivo modificado"
      ],
      "metadata": {
        "id": "puWwSuTgfM1p"
      }
    },
    {
      "cell_type": "code",
      "source": [
        "dataframe.to_csv(\"letter_recognition.csv\")"
      ],
      "metadata": {
        "id": "0B7tmSjsfJkX"
      },
      "execution_count": null,
      "outputs": []
    },
    {
      "cell_type": "markdown",
      "source": [
        "# Aplicacion de one vs all\n",
        "\n",
        "El siguiente codigo tiene como objetivo entrenar con los datos correspondientes del dataset, aplicado al codigo de one vs all, el cual consiste en que los datos son separados utilizando clasificadores binarios según cada clase que exista, haciendo que cada clase se distinga de las demás. Al final se obiente la predicción de a que clase pertenece un determinada entrada de X."
      ],
      "metadata": {
        "id": "fX-xNZDVfU7k"
      }
    },
    {
      "cell_type": "code",
      "source": [
        "import os\n",
        "\n",
        "import numpy as np\n",
        "\n",
        "from matplotlib import pyplot\n",
        "\n",
        "from scipy import optimize\n",
        "\n",
        "%matplotlib inline"
      ],
      "metadata": {
        "id": "4cmjtXVnigou"
      },
      "execution_count": 26,
      "outputs": []
    },
    {
      "cell_type": "markdown",
      "source": [
        "El dataset posee 20000 datos los cuales el 80% es decir 16000 datos serán destinados al entrenamiento. 4000 datos para la pruba."
      ],
      "metadata": {
        "id": "_cUHSxqfg3GO"
      }
    },
    {
      "cell_type": "code",
      "source": [
        "# 17 elementos contando x0\n",
        "input_layer_size  = 17\n",
        "# de 0 a 25\n",
        "num_labels = 26\n",
        "\n",
        "#Se carga el dataset\n",
        "data = np.loadtxt('/content/drive/MyDrive/Machine learning/Datasets/Clean_letter_recognition.csv', delimiter=',')\n",
        "\n",
        "Y = data[:, 0]  # Primera columna\n",
        "X = data[:, 1:]  # Resto de las columnas\n",
        "# Dividir los datos en conjuntos de entrenamiento y prueba\n",
        "X_train, y_train = X[:16000], Y[:16000]\n",
        "X_test, y_test = X[16000:], Y[16000:]\n",
        "X = X_train\n",
        "Y = y_train\n",
        "\n",
        "m = Y.size\n",
        "\n",
        "print(X)\n",
        "print(Y)"
      ],
      "metadata": {
        "colab": {
          "base_uri": "https://localhost:8080/"
        },
        "id": "xW3g5jVRfQ1c",
        "outputId": "c6de8a8e-046b-4100-afe4-ef56b29f6af1"
      },
      "execution_count": 45,
      "outputs": [
        {
          "output_type": "stream",
          "name": "stdout",
          "text": [
            "[[ 2.   8.   3.  ...  8.3  0.2  8.4]\n",
            " [ 5.  12.   3.  ...  8.   4.  10. ]\n",
            " [ 4.  11.   6.  ...  7.   3.   9. ]\n",
            " ...\n",
            " [ 8.  14.   7.  ...  7.   5.   8. ]\n",
            " [ 4.   7.   5.  ...  8.   5.   8. ]\n",
            " [ 2.   1.   3.  ...  9.   4.  10. ]]\n",
            "[19.  8.  3. ...  6.  4.  2.]\n"
          ]
        }
      ]
    },
    {
      "cell_type": "code",
      "source": [
        "print(X_test)\n",
        "print(y_test)"
      ],
      "metadata": {
        "colab": {
          "base_uri": "https://localhost:8080/"
        },
        "id": "1kykIketu2h9",
        "outputId": "369ac589-c40c-4167-9315-0145cd1cac02"
      },
      "execution_count": 46,
      "outputs": [
        {
          "output_type": "stream",
          "name": "stdout",
          "text": [
            "[[ 4. 10.  6. ...  8.  5.  6.]\n",
            " [ 6.  9.  8. ...  8.  0.  8.]\n",
            " [ 6.  9.  8. ...  9.  7. 10.]\n",
            " ...\n",
            " [ 6.  9.  6. ... 12.  2.  4.]\n",
            " [ 2.  3.  4. ...  9.  5.  8.]\n",
            " [ 4.  9.  6. ...  7.  2.  8.]]\n",
            "[20. 13. 21. ... 19. 18.  0.]\n"
          ]
        }
      ]
    },
    {
      "cell_type": "markdown",
      "source": [
        "**Normalización de los datos**\n",
        "\n",
        "Los datos deben ser normalizados para estar dentro de la misma escala, la forma con la que se normalizan los datos es utilizando la media y sigma."
      ],
      "metadata": {
        "id": "Xt1816m8iw3e"
      }
    },
    {
      "cell_type": "code",
      "source": [
        "def  featureNormalize(X):\n",
        "    X_norm = X.copy()\n",
        "    mu = np.zeros(X.shape[1])\n",
        "    sigma = np.zeros(X.shape[1])\n",
        "\n",
        "    mu = np.mean(X, axis = 0)\n",
        "    sigma = np.std(X, axis = 0)\n",
        "    X_norm = (X - mu) / sigma\n",
        "\n",
        "    return X_norm, mu, sigma"
      ],
      "metadata": {
        "id": "Q_BYvuN-iwg4"
      },
      "execution_count": 47,
      "outputs": []
    },
    {
      "cell_type": "code",
      "source": [
        "X_norm, mu, sigma = featureNormalize(X)"
      ],
      "metadata": {
        "id": "OlP43etdjTyQ"
      },
      "execution_count": 48,
      "outputs": []
    },
    {
      "cell_type": "markdown",
      "source": [
        "X es asignada con los valores normalizados"
      ],
      "metadata": {
        "id": "lecELSsyjePP"
      }
    },
    {
      "cell_type": "code",
      "source": [
        "m, n = X.shape\n",
        "X = X_norm"
      ],
      "metadata": {
        "id": "KMixBFxejbu-"
      },
      "execution_count": 49,
      "outputs": []
    },
    {
      "cell_type": "markdown",
      "source": [
        "**Definicion de la funcion de la sigmoide**\n",
        "\n",
        "La sigmoide es utilizada para colocar cualquier valor dentro de un rango de 0 y 1, el cual servirá como resultado para calcular las probabilidades de cada clase."
      ],
      "metadata": {
        "id": "6QOfZBThjYhL"
      }
    },
    {
      "cell_type": "code",
      "source": [
        "def sigmoid(z):\n",
        "    return 1.0 / (1.0 + np.exp(-z))"
      ],
      "metadata": {
        "id": "bozblermj4_k"
      },
      "execution_count": 50,
      "outputs": []
    },
    {
      "cell_type": "markdown",
      "source": [
        "**Calculo de la funcion de cosoo y gradiente para regresión logística**\n",
        "\n",
        "El objetivo es encontrar los valores más óptimos para cada theta.\n",
        "\n",
        "Una vez que la funcion sea ejecutada se contará con los valores optimizados de theta."
      ],
      "metadata": {
        "id": "aIoBeEYSlGN7"
      }
    },
    {
      "cell_type": "code",
      "source": [
        "def lrCostFunction(theta, X, y, lambda_):\n",
        "    m = y.size\n",
        "\n",
        "    if y.dtype == bool:\n",
        "        y = y.astype(int)\n",
        "\n",
        "    J = 0\n",
        "    grad = np.zeros(theta.shape)\n",
        "\n",
        "    h = sigmoid(X.dot(theta.T))\n",
        "\n",
        "    temp = theta\n",
        "    temp[0] = 0\n",
        "    J = (1 / m) * np.sum(-y.dot(np.log(h)) - (1 - y).dot(np.log(1 - h))) + (lambda_ / (2 * m)) * np.sum(np.square(temp))\n",
        "\n",
        "    grad = (1 / m) * (h - y).dot(X)\n",
        "    grad = grad + (lambda_ / m) * temp\n",
        "\n",
        "    return J, grad"
      ],
      "metadata": {
        "id": "nY4Qc3zDj7rR"
      },
      "execution_count": 51,
      "outputs": []
    },
    {
      "cell_type": "markdown",
      "source": [
        "**Función one vs all**\n",
        "\n",
        "En esta función es donde se entrenerá a las clases, de forma individual cada clase será entrenada para distinguirse de las demás clases."
      ],
      "metadata": {
        "id": "p2iFuX5El9sC"
      }
    },
    {
      "cell_type": "code",
      "source": [
        "def oneVsAll(X, y, num_labels, lambda_):\n",
        "    m, n = X.shape\n",
        "\n",
        "    all_theta = np.zeros((num_labels, n+1))\n",
        "\n",
        "    X = np.concatenate([np.ones((m, 1)), X], axis=1)\n",
        "\n",
        "    for c in np.arange(num_labels):\n",
        "        initial_theta = np.zeros(n+1)\n",
        "        options = {'maxiter': 50}\n",
        "        res = optimize.minimize(lrCostFunction,\n",
        "                                initial_theta,\n",
        "                                (X, (y == c), lambda_),\n",
        "                                jac=True,\n",
        "                                method='CG',\n",
        "                                options=options)\n",
        "\n",
        "        all_theta[c] = res.x\n",
        "\n",
        "    return all_theta"
      ],
      "metadata": {
        "id": "6-EeSVZhl1ZX"
      },
      "execution_count": 52,
      "outputs": []
    },
    {
      "cell_type": "code",
      "source": [
        "print(X.shape)"
      ],
      "metadata": {
        "colab": {
          "base_uri": "https://localhost:8080/"
        },
        "id": "DrrxA6BfrguL",
        "outputId": "6788cb75-7860-4235-9214-2b01a5454f77"
      },
      "execution_count": 53,
      "outputs": [
        {
          "output_type": "stream",
          "name": "stdout",
          "text": [
            "(16000, 16)\n"
          ]
        }
      ]
    },
    {
      "cell_type": "code",
      "source": [
        "lambda_ = 0.1\n",
        "all_theta = oneVsAll(X, Y, num_labels, lambda_)\n",
        "print(all_theta.shape)"
      ],
      "metadata": {
        "colab": {
          "base_uri": "https://localhost:8080/"
        },
        "id": "xrcA3DbjnQzV",
        "outputId": "54b2ebe4-5451-42bd-bd36-aa63119d725e"
      },
      "execution_count": 54,
      "outputs": [
        {
          "output_type": "stream",
          "name": "stdout",
          "text": [
            "(26, 17)\n"
          ]
        }
      ]
    },
    {
      "cell_type": "code",
      "source": [
        "print(all_theta)"
      ],
      "metadata": {
        "colab": {
          "base_uri": "https://localhost:8080/"
        },
        "id": "_MRvn2RvnUMl",
        "outputId": "68e2fd1e-36f5-474e-8638-1b6156a9b2f1"
      },
      "execution_count": 55,
      "outputs": [
        {
          "output_type": "stream",
          "name": "stdout",
          "text": [
            "[[-8.15738409e+00 -1.45686869e+00  4.74686010e-01  1.98509910e+00\n",
            "   1.42874086e-01 -1.14743524e+00  1.11030096e+00 -7.87220584e-01\n",
            "  -1.49043784e+00 -2.49800845e+00 -1.50399328e+00 -9.80607082e-01\n",
            "   1.29512931e+00 -5.29533274e-01 -3.00565543e-01  5.94999541e-01\n",
            "  -1.09081970e+00]\n",
            " [-6.17634334e+00  4.25906625e-02  2.40001686e-01 -1.16094275e+00\n",
            "  -1.71257276e+00  1.87251095e+00  1.31212284e-01 -9.48085457e-01\n",
            "   7.56271638e-01  4.95821464e-01  7.90256334e-01  3.97288762e-01\n",
            "  -1.89824922e+00 -2.17590046e-01 -5.34944069e-01  1.47571451e+00\n",
            "   9.24428243e-01]\n",
            " [-6.58899649e+00  4.18114808e-01  5.97521118e-01 -7.33799351e-01\n",
            "  -1.00902036e+00  3.10999351e-01  2.13384870e-01  1.16837232e+00\n",
            "   9.87285526e-01  1.04164462e+00  1.21116382e+00  6.38835213e-01\n",
            "   2.17994491e+00  7.49836039e-01  7.39220235e-01 -6.88673114e-02\n",
            "   1.00892353e+00]\n",
            " [-7.52299315e+00 -4.63337578e-03  7.59814582e-01 -1.85378865e+00\n",
            "  -2.17147494e+00  2.72847203e+00 -1.25699830e-03 -1.44798883e+00\n",
            "   2.13256198e+00  2.43370696e+00  1.72194959e+00 -9.19707320e-01\n",
            "  -2.67784226e+00  7.89951296e-01 -5.95356952e-01 -2.71265337e-01\n",
            "  -3.07771526e-01]\n",
            " [-5.74092081e+00 -3.93925083e-01  6.34173522e-01 -8.56496423e-01\n",
            "  -1.30916181e+00  1.53775349e+00 -6.14598974e-01  7.57362714e-01\n",
            "  -7.57594995e-01  9.13559939e-01  1.05285781e+00 -3.78116156e-01\n",
            "   1.19406952e+00  6.99271530e-02  9.85390571e-02  1.24417172e+00\n",
            "   6.09107652e-01]\n",
            " [-6.19025230e+00 -1.06464841e+00  3.76958348e-01 -3.81124029e-01\n",
            "  -5.78419266e-01  1.46117805e+00 -9.29567558e-01  7.70228276e-01\n",
            "  -8.47380306e-01 -1.14363633e-01  1.98800593e+00  5.32147859e-01\n",
            "  -7.50266246e-01  6.21365031e-02 -2.06464168e-01  1.05046874e+00\n",
            "   1.92714486e-01]\n",
            " [-4.41086253e+00 -6.82237095e-02  3.93422365e-01  7.41082907e-01\n",
            "  -9.57066169e-01 -1.90247184e-01 -5.95481148e-02 -6.69339940e-01\n",
            "   5.80425129e-01 -3.06685445e-01 -3.56595452e-01  5.81068511e-02\n",
            "   6.75716286e-01 -4.00740224e-01  4.88103887e-01  7.48293782e-01\n",
            "   6.79190444e-01]\n",
            " [-4.13796012e+00 -3.40883107e-01  2.59707399e-02  1.28774196e+00\n",
            "  -1.53066869e+00  1.13097076e+00  2.07180623e-01  3.39950467e-01\n",
            "   1.14150079e+00 -6.89019036e-02  1.35922449e-01 -4.77689293e-01\n",
            "   2.10894611e-01 -5.92681532e-01 -6.38811866e-02 -5.29454359e-01\n",
            "  -5.76244127e-02]\n",
            " [-6.96653000e+00  4.01798975e-01  1.05084618e+00 -3.60576033e+00\n",
            "   5.16780595e-02  1.73606636e+00  1.56889011e-02 -1.33965522e+00\n",
            "  -2.03760377e+00  8.54411065e-02  4.77439613e-01  1.18743868e+00\n",
            "  -1.07808169e+00 -1.66359234e+00 -6.92099956e-02 -6.43725425e-03\n",
            "   6.33549712e-01]\n",
            " [-6.78439273e+00 -9.43183950e-02 -1.24760335e+00 -9.78429208e-01\n",
            "   1.47436956e+00  5.20799767e-01  1.89584471e+00  1.09154038e+00\n",
            "   3.70400645e-01 -1.70291186e-02  1.99967354e+00 -1.15231357e-01\n",
            "   3.05785585e-01 -9.57546989e-01 -1.25808947e+00  1.28821322e-01\n",
            "  -1.13974370e+00]\n",
            " [-5.55366279e+00 -5.61713298e-01 -1.42203238e-02  1.51436478e+00\n",
            "  -5.63105331e-01 -8.00029871e-01 -1.58361957e+00  1.33033770e-01\n",
            "  -1.62277097e+00 -1.74547922e-01  1.01209476e-01 -4.17116043e-01\n",
            "   1.01934700e+00  6.76045775e-01 -3.51265268e-01  5.48102146e-01\n",
            "   1.33464399e+00]\n",
            " [-7.24943586e+00 -3.19515705e-01  1.56767852e+00 -8.15135743e-01\n",
            "  -1.43822200e+00  1.67953994e+00 -1.03722203e+00 -3.09815336e+00\n",
            "  -1.15359709e+00  1.28628599e+00 -6.16761282e-01 -4.65252791e-01\n",
            "   3.36095812e-01 -2.67942319e-01  7.29416279e-01 -3.70798118e-01\n",
            "   2.41259113e-01]\n",
            " [-9.07434588e+00 -4.19328505e-01  1.07023604e-01  1.04031327e+00\n",
            "  -2.32305118e+00  9.49654333e-01  4.27187890e-01  4.20759483e-01\n",
            "   7.61171873e-01  9.19039735e-01 -2.47887308e-01  3.23383066e-02\n",
            "   9.49520132e-01  2.72421228e+00 -2.01305236e+00 -2.00424893e+00\n",
            "  -3.34386404e-01]\n",
            " [-5.61959231e+00 -1.19189918e+00  4.62571600e-01  1.22255021e+00\n",
            "  -4.56553419e-01 -7.47301573e-01 -3.20185718e-02  1.28225632e+00\n",
            "   8.28128486e-01  6.18228542e-01 -3.18631781e-02 -1.61809961e+00\n",
            "   7.57645095e-02  1.41501836e+00  3.07941656e-02 -1.87004907e+00\n",
            "  -1.04584418e+00]\n",
            " [-3.80066612e+00  4.83946350e-01  2.16459829e-01 -6.43367975e-01\n",
            "  -7.04173272e-01  5.86993885e-01  2.55954767e-01  3.22892985e-02\n",
            "   1.05077845e+00  2.74342501e-01  1.97968546e-01 -5.33248361e-01\n",
            "   1.00401452e-01  3.76182468e-02  1.03087928e-01  3.47766303e-02\n",
            "  -2.22609105e-01]\n",
            " [-8.41189084e+00 -1.95605872e-01 -4.70861529e-01 -6.75154696e-02\n",
            "  -4.17390196e-01  1.33567423e+00 -4.58887036e-01 -1.15968004e+00\n",
            "   1.18649830e+00 -2.03364386e+00  1.51025182e+00 -4.64880886e-01\n",
            "  -3.17128662e+00 -8.89945309e-01  1.61078409e+00  6.45614968e-01\n",
            "   4.72226362e-01]\n",
            " [-5.71241732e+00  9.96662946e-01 -1.03901145e+00 -9.18106027e-01\n",
            "   7.80971807e-01  1.68663488e-01  1.28712771e+00 -3.93746564e-01\n",
            "   3.83656072e-01 -8.03853277e-01 -1.33236403e+00  1.88809621e-01\n",
            "   9.51963094e-01 -6.05914902e-01 -5.45940976e-02  8.44336936e-01\n",
            "   4.25867664e-01]\n",
            " [-5.91144409e+00 -2.00619068e-01  4.15014588e-01 -4.82642961e-01\n",
            "  -1.14134434e+00  9.63850307e-01 -9.01090287e-02  2.08070428e+00\n",
            "   5.28520648e-02  7.76026125e-02 -5.20318142e-01 -2.35040058e+00\n",
            "  -1.54589804e-01  2.63000813e-01 -1.22508364e+00  3.70377399e-01\n",
            "   9.67557293e-01]\n",
            " [-5.22447787e+00 -2.53375656e-01  5.23073607e-01  1.28345317e+00\n",
            "  -8.44577267e-01 -1.13103825e+00  8.04650149e-01 -2.30172740e-01\n",
            "   2.07657920e-01 -3.96959224e-01  1.45769697e-01  1.22137106e-02\n",
            "  -2.16259491e-01 -1.62255742e+00  1.08700034e-01  2.07609605e+00\n",
            "  -2.15648868e-01]\n",
            " [-7.43931535e+00  9.77456387e-01  8.53557628e-01 -2.25394681e+00\n",
            "  -1.39179209e+00  2.46009921e+00  1.41518206e+00  3.32628298e+00\n",
            "  -5.68405240e-02  2.28757608e+00  2.83197744e-01  5.46634835e-01\n",
            "   3.66120385e-01 -1.83204550e-01 -3.80501784e-02 -7.14557386e-01\n",
            "  -8.92569724e-01]\n",
            " [-7.24677416e+00  1.16382057e+00  5.42578416e-01 -1.47413743e+00\n",
            "  -1.98804811e+00  2.13231394e+00  9.68339637e-02 -1.28349419e+00\n",
            "   1.04276773e+00  2.49968239e+00 -8.70067972e-01  2.09950620e+00\n",
            "   6.24220156e-01  4.60306015e-01  1.84888433e-01 -2.44224747e+00\n",
            "  -1.16575813e+00]\n",
            " [-7.42325232e+00  1.79021264e-01  1.01886005e+00 -1.49490235e-01\n",
            "  -1.08390766e+00  3.94988221e-01 -2.29184827e-01  6.66262516e-01\n",
            "  -2.74807208e-01 -1.41217233e+00 -3.69582707e-01  2.94026135e+00\n",
            "  -7.28616857e-01  1.80008685e-01  2.07046929e-01  8.31933458e-01\n",
            "   6.85887213e-01]\n",
            " [-9.52895122e+00 -1.45187101e-01  9.41907945e-02 -1.52268119e-01\n",
            "  -7.51621843e-01  6.02725112e-01 -7.69139284e-01 -5.07235513e-02\n",
            "  -7.98101402e-01 -1.74640990e+00 -4.45382198e-01  6.19412703e-01\n",
            "  -6.92777572e-01  2.38123951e+00  1.12143081e+00 -1.45012889e+00\n",
            "  -1.27713515e-01]\n",
            " [-5.40823805e+00 -8.95512816e-01  2.38373215e-01  2.01414072e+00\n",
            "  -7.36560324e-02 -2.78727011e+00  4.74496940e-02 -2.09226876e-01\n",
            "  -2.45052240e+00  4.27075615e-01 -8.31370979e-01  1.58304440e-01\n",
            "  -1.01908604e-01  1.08527113e+00 -3.73732355e-02  1.68624430e+00\n",
            "  -3.02366484e-02]\n",
            " [-9.07965936e+00  5.88205974e-01 -1.02665954e+00 -2.12117815e-01\n",
            "   6.71759065e-01 -4.24264465e-02 -1.75358467e-02 -1.32484275e+00\n",
            "  -1.71902070e+00 -6.89844945e-01 -1.08093536e+00  2.66352448e+00\n",
            "  -2.01147219e-01 -1.78746392e+00  1.99086398e+00  1.17402504e+00\n",
            "  -1.65316724e+00]\n",
            " [-1.05397948e+01 -5.44383047e-01 -1.36557472e+00 -6.51827810e-01\n",
            "   3.67368206e-01  6.57758001e-01  2.04855241e+00 -7.97558749e-02\n",
            "  -9.60213628e-01  2.66937935e+00  2.17682703e+00  6.62593058e-02\n",
            "   2.98370740e-01 -8.09601048e-01  8.48552423e-02  3.58106749e+00\n",
            "  -9.08688172e-01]]\n"
          ]
        }
      ]
    },
    {
      "cell_type": "markdown",
      "source": [
        "# Predicciones\n",
        "\n",
        "Con las funciones anteriores es que ya tenemos los valores de theta que servirán para las prediciciones, al igual que los valores normalizados de X"
      ],
      "metadata": {
        "id": "FwaachxvnkmV"
      }
    },
    {
      "cell_type": "markdown",
      "source": [
        "**Funcion para predecir one vs all**\n",
        "\n",
        "Para cada ejemplo en X la función calculará la probabilidad de que el ejemplo pertenezca a una clase, esto ocurre gracias a aplicar la regresión logística a la hipótesis, el resultado es una prabilidad enrtre 0 y 1, después la función escogerá la clase a la que la probabilidad es más alta, siendo esta la clase la clase predecida."
      ],
      "metadata": {
        "id": "FEp2x8P3ooXO"
      }
    },
    {
      "cell_type": "code",
      "source": [
        "def predictOneVsAll(all_theta, X):\n",
        "\n",
        "    m = X.shape[0];\n",
        "    num_labels = all_theta.shape[0]\n",
        "\n",
        "    p = np.zeros(m)\n",
        "\n",
        "    # Add ones to the X data matrix\n",
        "    X = np.concatenate([np.ones((m, 1)), X], axis=1)\n",
        "    p = np.argmax(sigmoid(X.dot(all_theta.T)), axis = 1)\n",
        "\n",
        "    return p"
      ],
      "metadata": {
        "id": "ojEEDQbGoE9O"
      },
      "execution_count": 56,
      "outputs": []
    },
    {
      "cell_type": "markdown",
      "source": [
        "**Resultados del entrenamiento**\n",
        "\n",
        "Ahora es que se llama a los valores destinados a mostar la prueba del entrenamiento, X_test y Y_test, mostrando también la precisión de los datos predecidos."
      ],
      "metadata": {
        "id": "h_aWKKANomn1"
      }
    },
    {
      "cell_type": "markdown",
      "source": [
        "**Normalizacion de los valores de X_test**\n",
        "\n",
        "Previo al entreanamiento los valores de X_test deben ser normalizados"
      ],
      "metadata": {
        "id": "Bk8WhndjvHL3"
      }
    },
    {
      "cell_type": "code",
      "source": [
        "X_test_norm, mu_test, sigma_test = featureNormalize(X_test)"
      ],
      "metadata": {
        "id": "tc-PtZChvNwB"
      },
      "execution_count": 57,
      "outputs": []
    },
    {
      "cell_type": "code",
      "source": [
        "X_test = X_test_norm"
      ],
      "metadata": {
        "id": "TFLmtpetvkOP"
      },
      "execution_count": 58,
      "outputs": []
    },
    {
      "cell_type": "markdown",
      "source": [
        "Para visualizar los resultados es que solo se imprime las filas de 10 a 150"
      ],
      "metadata": {
        "id": "rCeDiLcnwM_8"
      }
    },
    {
      "cell_type": "code",
      "source": [
        "print(X_test.shape)\n",
        "pred = predictOneVsAll(all_theta, X_test)\n",
        "print('Precision del conjuto de entrenamiento: {:.2f}%'.format(np.mean(pred == y_test) * 100))\n",
        "XPrueba = X_test.copy()\n",
        "print(XPrueba.shape)\n",
        "\n",
        "m, n = X_test.shape\n",
        "\n",
        "XPrueba = np.concatenate([np.ones((m, 1)), XPrueba], axis=1)\n",
        "print(XPrueba.shape)\n",
        "p = np.argmax(sigmoid(XPrueba.dot(all_theta.T)), axis = 1)\n",
        "print(p[10:150])\n",
        "\n",
        "\n",
        "print(y_test[10:150])"
      ],
      "metadata": {
        "colab": {
          "base_uri": "https://localhost:8080/"
        },
        "id": "WKcivEK6oeUU",
        "outputId": "4bffd1f2-b1a4-4733-a7ce-8160c74ae53d"
      },
      "execution_count": 59,
      "outputs": [
        {
          "output_type": "stream",
          "name": "stdout",
          "text": [
            "(4000, 16)\n",
            "Precision del conjuto de entrenamiento: 71.55%\n",
            "(4000, 16)\n",
            "(4000, 17)\n",
            "[13  8  6 11 17  1 12  3 21 17 15  3  4 22  3 18 17  6 21 17  3  9  6  8\n",
            "  6  2 13 12  1 13 17  0  0 16  1  7 17  2 18  0  9 10 22 13  7 18  1  4\n",
            " 24  9 13 16 24 16 23 19 11  6 15 10 22  7 22  0 13 19  8  5  8  3 19  1\n",
            " 19  8  3  5  2 18  2  1  0 13 10 17  7 11 15  2 13  5  8 25  5  3  6  1\n",
            " 25 19 16 21 17 20 22  1  9 17 10 16  1 17  5 18 16 11 19 15  0 10  5  3\n",
            " 16 11 16  2 13 10  8 15 17  3 20 21 12  0 17 24 10  6 23 11]\n",
            "[13.  1.  6. 11.  4.  6. 12.  3. 24. 17. 15.  3.  4. 22.  3. 16. 17.  6.\n",
            " 24. 17.  3.  9.  2.  8. 19.  2. 13. 12.  1.  7. 17. 16.  0.  6. 16.  7.\n",
            " 10.  6.  0.  0.  9. 10. 22. 13.  7. 11.  1.  4. 24.  9. 13. 11. 18. 16.\n",
            "  3.  4. 11.  6. 15. 10. 22. 14. 22.  0.  7. 19.  8.  5.  8.  3. 19. 15.\n",
            " 25.  8.  3.  5.  6. 19.  2.  1.  7. 13.  4. 17. 20. 11. 15.  2. 13.  5.\n",
            "  8. 25.  5.  3.  6.  1. 18. 19. 16. 21.  4.  0. 22. 10. 24. 10. 11. 16.\n",
            "  1. 18.  5. 18. 16. 11. 19. 15.  0. 10.  5.  3. 16. 11.  6.  2. 13. 10.\n",
            "  8. 15. 17. 14. 23. 21.  7.  0. 17. 24. 10. 18. 23.  4.]\n"
          ]
        }
      ]
    }
  ]
}
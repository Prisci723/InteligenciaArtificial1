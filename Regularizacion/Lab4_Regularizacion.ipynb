{
  "nbformat": 4,
  "nbformat_minor": 0,
  "metadata": {
    "colab": {
      "provenance": [],
      "collapsed_sections": [
        "ITxcGp-V-4OR"
      ],
      "authorship_tag": "ABX9TyNdP0sdCksimdcJfAQELeQ7",
      "include_colab_link": true
    },
    "kernelspec": {
      "name": "python3",
      "display_name": "Python 3"
    },
    "language_info": {
      "name": "python"
    }
  },
  "cells": [
    {
      "cell_type": "markdown",
      "metadata": {
        "id": "view-in-github",
        "colab_type": "text"
      },
      "source": [
        "<a href=\"https://colab.research.google.com/github/Prisci723/InteligenciaArtificial1/blob/main/Regularizacion/Lab4_Regularizacion.ipynb\" target=\"_parent\"><img src=\"https://colab.research.google.com/assets/colab-badge.svg\" alt=\"Open In Colab\"/></a>"
      ]
    },
    {
      "cell_type": "code",
      "execution_count": 430,
      "metadata": {
        "colab": {
          "base_uri": "https://localhost:8080/"
        },
        "id": "hNXovgzZIgXf",
        "outputId": "e95a8f48-27b0-46dc-ff34-d9424664e088"
      },
      "outputs": [
        {
          "output_type": "stream",
          "name": "stdout",
          "text": [
            "Drive already mounted at /content/gdrive; to attempt to forcibly remount, call drive.mount(\"/content/gdrive\", force_remount=True).\n"
          ]
        }
      ],
      "source": [
        "from google.colab import drive\n",
        "drive.mount(\"/content/gdrive\")"
      ]
    },
    {
      "cell_type": "code",
      "source": [
        "import os\n",
        "import numpy as np\n",
        "from matplotlib import pyplot\n",
        "from scipy import optimize\n",
        "%matplotlib inline"
      ],
      "metadata": {
        "id": "8QJkaczCKdZs"
      },
      "execution_count": 431,
      "outputs": []
    },
    {
      "cell_type": "markdown",
      "source": [
        "# Regularización de regresión multivariable"
      ],
      "metadata": {
        "id": "0HDO64Pw--t7"
      }
    },
    {
      "cell_type": "markdown",
      "source": [
        "El 80% de los datos de X serán utilizados para el entrenamiento que son 13900. El resto para la prueba"
      ],
      "metadata": {
        "id": "BQhltfbEAMUO"
      }
    },
    {
      "cell_type": "code",
      "source": [
        "data = np.loadtxt('/content/gdrive/MyDrive/Machine learning/Datasets/bicicletas_hora.txt', delimiter=',')\n",
        "X_multivariable = data[:13900, :6]\n",
        "y_multivariable = data[:13900, 6]\n",
        "\n",
        "X_test_multivariable = data[13900:, :6]\n",
        "Y_test_multivariable = data[13900:, 6]\n",
        "\n",
        "m = y_multivariable.size"
      ],
      "metadata": {
        "id": "k0GYELnu_gqm"
      },
      "execution_count": 432,
      "outputs": []
    },
    {
      "cell_type": "code",
      "source": [
        "def  featureNormalize(X):\n",
        "    X_norm = X.copy()\n",
        "    mu = np.zeros(X.shape[1])\n",
        "    sigma = np.zeros(X.shape[1])\n",
        "\n",
        "    mu = np.mean(X, axis = 0)\n",
        "    sigma = np.std(X, axis = 0)\n",
        "    X_norm = (X - mu) / sigma\n",
        "\n",
        "    return X_norm, mu, sigma"
      ],
      "metadata": {
        "id": "KonHMgTHA70s"
      },
      "execution_count": 433,
      "outputs": []
    },
    {
      "cell_type": "code",
      "source": [
        "X_norm, mu, sigma = featureNormalize(X_multivariable.copy())\n",
        "\n",
        "print(X_multivariable.copy())\n",
        "print('Media calculada:', mu)\n",
        "print('Desviación estandar calculada:', sigma)\n",
        "print(X_norm)"
      ],
      "metadata": {
        "colab": {
          "base_uri": "https://localhost:8080/"
        },
        "id": "Wq9PYb5kBAfr",
        "outputId": "0b619d4c-d3f3-46ae-dafb-56bf2751bba5"
      },
      "execution_count": 434,
      "outputs": [
        {
          "output_type": "stream",
          "name": "stdout",
          "text": [
            "[[2.400e-01 2.879e-01 8.100e-01 0.000e+00 3.000e+00 1.300e+01]\n",
            " [2.200e-01 2.727e-01 8.000e-01 0.000e+00 8.000e+00 3.200e+01]\n",
            " [2.200e-01 2.727e-01 8.000e-01 0.000e+00 5.000e+00 2.700e+01]\n",
            " ...\n",
            " [7.000e-01 6.667e-01 7.900e-01 1.940e-01 3.000e+00 1.760e+02]\n",
            " [7.000e-01 6.667e-01 7.400e-01 1.343e-01 2.100e+01 4.810e+02]\n",
            " [7.000e-01 6.515e-01 7.000e-01 1.642e-01 4.100e+01 6.640e+02]]\n",
            "Media calculada: [  0.49911942   0.47797011   0.62297914   0.19411271  34.02971223\n",
            " 140.59021583]\n",
            "Desviación estandar calculada: [1.97700089e-01 1.76596944e-01 1.98204773e-01 1.23026769e-01\n",
            " 4.73403236e+01 1.37516817e+02]\n",
            "[[-1.31066923e+00 -1.07629330e+00  9.43573965e-01 -1.57780875e+00\n",
            "  -6.55460501e-01 -9.27815366e-01]\n",
            " [-1.41183257e+00 -1.16236501e+00  8.93121093e-01 -1.57780875e+00\n",
            "  -5.49842296e-01 -7.89650446e-01]\n",
            " [-1.41183257e+00 -1.16236501e+00  8.93121093e-01 -1.57780875e+00\n",
            "  -6.13213219e-01 -8.26009635e-01]\n",
            " ...\n",
            " [ 1.01608743e+00  1.06870418e+00  8.42668221e-01 -9.16160209e-04\n",
            "  -6.55460501e-01  2.57494210e-01]\n",
            " [ 1.01608743e+00  1.06870418e+00  5.90403862e-01 -4.86176406e-01\n",
            "  -2.75234963e-01  2.47540477e+00]\n",
            " [ 1.01608743e+00  9.82632476e-01  3.88592375e-01 -2.43139867e-01\n",
            "   1.47237856e-01  3.80615110e+00]]\n"
          ]
        }
      ]
    },
    {
      "cell_type": "code",
      "source": [
        "X = np.concatenate([np.ones((m, 1)), X_norm], axis=1)"
      ],
      "metadata": {
        "id": "F9l6LUpDBIEm"
      },
      "execution_count": 435,
      "outputs": []
    },
    {
      "cell_type": "code",
      "source": [
        "print(X)"
      ],
      "metadata": {
        "colab": {
          "base_uri": "https://localhost:8080/"
        },
        "id": "ObI9_fy9BKpL",
        "outputId": "ca7f4b41-9d62-4537-8874-87e2f33b8787"
      },
      "execution_count": 436,
      "outputs": [
        {
          "output_type": "stream",
          "name": "stdout",
          "text": [
            "[[ 1.00000000e+00 -1.31066923e+00 -1.07629330e+00 ... -1.57780875e+00\n",
            "  -6.55460501e-01 -9.27815366e-01]\n",
            " [ 1.00000000e+00 -1.41183257e+00 -1.16236501e+00 ... -1.57780875e+00\n",
            "  -5.49842296e-01 -7.89650446e-01]\n",
            " [ 1.00000000e+00 -1.41183257e+00 -1.16236501e+00 ... -1.57780875e+00\n",
            "  -6.13213219e-01 -8.26009635e-01]\n",
            " ...\n",
            " [ 1.00000000e+00  1.01608743e+00  1.06870418e+00 ... -9.16160209e-04\n",
            "  -6.55460501e-01  2.57494210e-01]\n",
            " [ 1.00000000e+00  1.01608743e+00  1.06870418e+00 ... -4.86176406e-01\n",
            "  -2.75234963e-01  2.47540477e+00]\n",
            " [ 1.00000000e+00  1.01608743e+00  9.82632476e-01 ... -2.43139867e-01\n",
            "   1.47237856e-01  3.80615110e+00]]\n"
          ]
        }
      ]
    },
    {
      "cell_type": "code",
      "source": [
        "def computeCostMulti(X, y, theta):\n",
        "    m = y.shape[0]\n",
        "    J = 0\n",
        "    h = np.dot(X, theta)\n",
        "    J = (1/(2 * m)) * np.sum(np.square(np.dot(X, theta) - y))\n",
        "    return J"
      ],
      "metadata": {
        "id": "hEigexBQCQxt"
      },
      "execution_count": 437,
      "outputs": []
    },
    {
      "cell_type": "code",
      "source": [
        "def gradientDescentMulti(X, y, theta, alpha, num_iters):\n",
        "    m = y.shape[0]\n",
        "    theta = theta.copy()\n",
        "    J_history = []\n",
        "\n",
        "    for i in range(num_iters):\n",
        "        theta = theta - (alpha / m) * (np.dot(X, theta) - y).dot(X)\n",
        "        J_history.append(computeCostMulti(X, y, theta))\n",
        "\n",
        "    return theta, J_history"
      ],
      "metadata": {
        "id": "zlN4tVnQBRnv"
      },
      "execution_count": 438,
      "outputs": []
    },
    {
      "cell_type": "code",
      "source": [
        "alpha = 0.003\n",
        "num_iters = 10000\n",
        "theta_m = np.zeros(7)\n",
        "theta_m, J_history = gradientDescentMulti(X, y_multivariable , theta_m, alpha, num_iters)"
      ],
      "metadata": {
        "id": "780bzL38_f9g"
      },
      "execution_count": 439,
      "outputs": []
    },
    {
      "cell_type": "code",
      "source": [
        "pyplot.plot(np.arange(len(J_history)), J_history, lw=2)\n",
        "pyplot.xlabel('Numero de iteraciones')\n",
        "pyplot.ylabel('Costo J')"
      ],
      "metadata": {
        "colab": {
          "base_uri": "https://localhost:8080/",
          "height": 467
        },
        "id": "36qY2TqM_mAh",
        "outputId": "efb2ef0f-911a-47d7-f67e-80103df3ed36"
      },
      "execution_count": 440,
      "outputs": [
        {
          "output_type": "execute_result",
          "data": {
            "text/plain": [
              "Text(0, 0.5, 'Costo J')"
            ]
          },
          "metadata": {},
          "execution_count": 440
        },
        {
          "output_type": "display_data",
          "data": {
            "text/plain": [
              "<Figure size 640x480 with 1 Axes>"
            ],
            "image/png": "[encoded data removed]"
          },
          "metadata": {}
        }
      ]
    },
    {
      "cell_type": "code",
      "source": [
        "print('theta calculado por el descenso por el gradiente: {:s}'.format(str(theta_m)))"
      ],
      "metadata": {
        "colab": {
          "base_uri": "https://localhost:8080/"
        },
        "id": "B422cunlQnCh",
        "outputId": "c7d618d4-b9c5-4ba0-f26b-338e511a966f"
      },
      "execution_count": 441,
      "outputs": [
        {
          "output_type": "stream",
          "name": "stdout",
          "text": [
            "theta calculado por el descenso por el gradiente: [ 1.74619928e+02 -1.78307582e-01  1.78616511e-01 -1.43430677e-03\n",
            "  6.30868590e-03  4.73405552e+01  1.37516159e+02]\n"
          ]
        }
      ]
    },
    {
      "cell_type": "code",
      "source": [
        "X_test_norm = X_test_multivariable.copy()\n",
        "m, n = X_test_norm.shape\n",
        "print(X_test_norm)"
      ],
      "metadata": {
        "colab": {
          "base_uri": "https://localhost:8080/"
        },
        "id": "lRQoMetP_qip",
        "outputId": "dd88a2b0-4d41-4dda-fc7c-208890345188"
      },
      "execution_count": 442,
      "outputs": [
        {
          "output_type": "stream",
          "name": "stdout",
          "text": [
            "[[7.000e-01 6.667e-01 7.400e-01 1.343e-01 4.400e+01 2.830e+02]\n",
            " [7.400e-01 6.970e-01 7.000e-01 1.343e-01 8.900e+01 1.610e+02]\n",
            " [7.600e-01 7.273e-01 6.600e-01 8.960e-02 8.400e+01 1.300e+02]\n",
            " ...\n",
            " [2.600e-01 2.576e-01 6.000e-01 1.642e-01 7.000e+00 8.300e+01]\n",
            " [2.600e-01 2.727e-01 5.600e-01 1.343e-01 1.300e+01 4.800e+01]\n",
            " [2.600e-01 2.727e-01 6.500e-01 1.343e-01 1.200e+01 3.700e+01]]\n"
          ]
        }
      ]
    },
    {
      "cell_type": "code",
      "source": [
        "X_test_norm = np.concatenate([np.ones((m, 1)), X_test_norm], axis=1)\n",
        "print(X_test_norm)"
      ],
      "metadata": {
        "id": "TRFyGf_A_1z0",
        "colab": {
          "base_uri": "https://localhost:8080/"
        },
        "outputId": "083c191e-9e37-452a-808c-0846016d92e6"
      },
      "execution_count": 443,
      "outputs": [
        {
          "output_type": "stream",
          "name": "stdout",
          "text": [
            "[[1.000e+00 7.000e-01 6.667e-01 ... 1.343e-01 4.400e+01 2.830e+02]\n",
            " [1.000e+00 7.400e-01 6.970e-01 ... 1.343e-01 8.900e+01 1.610e+02]\n",
            " [1.000e+00 7.600e-01 7.273e-01 ... 8.960e-02 8.400e+01 1.300e+02]\n",
            " ...\n",
            " [1.000e+00 2.600e-01 2.576e-01 ... 1.642e-01 7.000e+00 8.300e+01]\n",
            " [1.000e+00 2.600e-01 2.727e-01 ... 1.343e-01 1.300e+01 4.800e+01]\n",
            " [1.000e+00 2.600e-01 2.727e-01 ... 1.343e-01 1.200e+01 3.700e+01]]\n"
          ]
        }
      ]
    },
    {
      "cell_type": "code",
      "source": [
        "X_test_norm[:, 1:7] = (X_test_norm[:, 1:7] - mu) / sigma\n",
        "\n",
        "print(X_test_norm)"
      ],
      "metadata": {
        "colab": {
          "base_uri": "https://localhost:8080/"
        },
        "id": "SitITZhD_6fW",
        "outputId": "ce840345-6685-4b14-ab1f-74aa389553e4"
      },
      "execution_count": 444,
      "outputs": [
        {
          "output_type": "stream",
          "name": "stdout",
          "text": [
            "[[ 1.          1.01608743  1.06870418 ... -0.48617641  0.21060878\n",
            "   1.03558086]\n",
            " [ 1.          1.2184141   1.24028133 ... -0.48617641  1.16117262\n",
            "   0.14841664]\n",
            " [ 1.          1.31957743  1.41185848 ... -0.84951197  1.05555442\n",
            "  -0.07701033]\n",
            " ...\n",
            " [ 1.         -1.2095059  -1.24787045 ... -0.24313987 -0.57096594\n",
            "  -0.41878671]\n",
            " [ 1.         -1.2095059  -1.16236501 ... -0.48617641 -0.44422409\n",
            "  -0.67330104]\n",
            " [ 1.         -1.2095059  -1.16236501 ... -0.48617641 -0.46534773\n",
            "  -0.75329126]]\n"
          ]
        }
      ]
    },
    {
      "cell_type": "code",
      "source": [
        "pred = np.dot(X_test_norm, theta_m)\n",
        "pred_int = pred.astype(int)\n",
        "\n",
        "print(pred_int)\n",
        "print(Y_test_multivariable)\n",
        "\n",
        "print('Precision del conjuto de entrenamiento: {:.2f}%'.format(np.mean(pred_int == Y_test_multivariable) * 100))"
      ],
      "metadata": {
        "colab": {
          "base_uri": "https://localhost:8080/"
        },
        "id": "QpDHKt2yAHHy",
        "outputId": "4bf085bd-af0f-4a28-c5fa-d0acceed0dbf"
      },
      "execution_count": 445,
      "outputs": [
        {
          "output_type": "stream",
          "name": "stdout",
          "text": [
            "[327 250 214 ...  89  61  49]\n",
            "[327. 250. 214. ...  90.  61.  49.]\n",
            "Precision del conjuto de entrenamiento: 50.85%\n"
          ]
        }
      ]
    },
    {
      "cell_type": "code",
      "source": [
        "def computeCostMultiReg(X, y, theta, lambda_):\n",
        "    m = y.shape[0]\n",
        "    J = 0\n",
        "    h = np.dot(X, theta)\n",
        "    J = (1/(2 * m)) * np.sum(np.square(np.dot(X, theta) - y)) + (lambda_/(2 * m)) * np.sum(np.square(theta[1:]))\n",
        "    return J"
      ],
      "metadata": {
        "id": "Q89Ait8JF9qc"
      },
      "execution_count": 446,
      "outputs": []
    },
    {
      "cell_type": "code",
      "source": [
        "def gradientDescentMultiReg(X, y, theta, alpha, num_iters, lambda_):\n",
        "\n",
        "    m = y.shape[0]\n",
        "\n",
        "    theta = theta.copy()\n",
        "\n",
        "    J_history = []\n",
        "\n",
        "    for i in range(num_iters):\n",
        "        theta = theta - (alpha / m) * (np.dot(X, theta) - y).dot(X)\n",
        "        theta[1:] = theta[1:] - (alpha / m) * lambda_ * theta[1:]\n",
        "        J_history.append(computeCostMultiReg(X, y, theta, lambda_))\n",
        "\n",
        "    return theta, J_history"
      ],
      "metadata": {
        "id": "n-TyLqV9GFMV"
      },
      "execution_count": 447,
      "outputs": []
    },
    {
      "cell_type": "code",
      "source": [
        "alpha = 0.003\n",
        "num_iters = 10000\n",
        "theta_mr = np.zeros(7)\n",
        "lambda_ = 0.01\n",
        "theta_mr, J_history = gradientDescentMultiReg(X, y_multivariable , theta_mr, alpha, num_iters, lambda_)"
      ],
      "metadata": {
        "id": "_5ArU5XVBW7S"
      },
      "execution_count": 448,
      "outputs": []
    },
    {
      "cell_type": "code",
      "source": [
        "pyplot.plot(np.arange(len(J_history)), J_history, lw=2)\n",
        "pyplot.xlabel('Numero de iteraciones')\n",
        "pyplot.ylabel('Costo J')"
      ],
      "metadata": {
        "colab": {
          "base_uri": "https://localhost:8080/",
          "height": 467
        },
        "id": "XrhtNDyEBh13",
        "outputId": "674a7eff-4813-4c4c-d590-309872fcefcc"
      },
      "execution_count": 449,
      "outputs": [
        {
          "output_type": "execute_result",
          "data": {
            "text/plain": [
              "Text(0, 0.5, 'Costo J')"
            ]
          },
          "metadata": {},
          "execution_count": 449
        },
        {
          "output_type": "display_data",
          "data": {
            "text/plain": [
              "<Figure size 640x480 with 1 Axes>"
            ],
            "image/png": "[encoded data removed]"
          },
          "metadata": {}
        }
      ]
    },
    {
      "cell_type": "code",
      "source": [
        "print('theta calculado por el descenso por el gradiente: {:s}'.format(str(theta_mr)))"
      ],
      "metadata": {
        "colab": {
          "base_uri": "https://localhost:8080/"
        },
        "id": "Dq7aSR4cBpeo",
        "outputId": "092a55ca-83a6-4712-c4c2-96213ed9d6bf"
      },
      "execution_count": 450,
      "outputs": [
        {
          "output_type": "stream",
          "name": "stdout",
          "text": [
            "theta calculado por el descenso por el gradiente: [ 1.74619928e+02 -1.78285783e-01  1.78638271e-01 -1.46593239e-03\n",
            "  6.31319698e-03  4.73405537e+01  1.37516036e+02]\n"
          ]
        }
      ]
    },
    {
      "cell_type": "code",
      "source": [
        "pred = np.dot(X_test_norm, theta_mr)\n",
        "pred_int = pred.astype(int)\n",
        "\n",
        "print(pred_int)\n",
        "print(Y_test_multivariable)\n",
        "\n",
        "print('Precision del conjuto de entrenamiento: {:.2f}%'.format(np.mean(pred_int == Y_test_multivariable) * 100))"
      ],
      "metadata": {
        "colab": {
          "base_uri": "https://localhost:8080/"
        },
        "id": "XxlARSUi8iHp",
        "outputId": "15660c30-83e3-4896-84dd-9037bb2abef2"
      },
      "execution_count": 451,
      "outputs": [
        {
          "output_type": "stream",
          "name": "stdout",
          "text": [
            "[327 250 214 ...  89  61  49]\n",
            "[327. 250. 214. ...  90.  61.  49.]\n",
            "Precision del conjuto de entrenamiento: 50.59%\n"
          ]
        }
      ]
    },
    {
      "cell_type": "markdown",
      "source": [
        "# Regularización de regresión logística"
      ],
      "metadata": {
        "id": "ITxcGp-V-4OR"
      }
    },
    {
      "cell_type": "markdown",
      "source": [
        "En la siguiente regresión se procederá a entrenarlo con el 80% de los datos ya tratados y realizar la prueba con el restante, para dicho cálculo el siguiente dataset cuenta con 61069 datos, por lo que el 80% 48855 aprox serán destinados al entrenamiento, mientras que el resto servirá para probar el entrenamiento."
      ],
      "metadata": {
        "id": "zL_h9T3ChC8l"
      }
    },
    {
      "cell_type": "code",
      "source": [
        "data = np.loadtxt('/content/gdrive/MyDrive/Machine learning/Datasets/secondary_mushroom_dataset.csv', delimiter=',')\n",
        "y = data[:, 1]  # Primera columna\n",
        "X = data[:, 2:]  # Resto de las columnas\n",
        "# Divide los datos en conjuntos de entrenamiento y prueba\n",
        "X_train, y_train = X[:48856], y[:48856]\n",
        "X_test, y_test = X[48855:], y[48855:]\n",
        "print(X_train)\n",
        "print(y_train)"
      ],
      "metadata": {
        "colab": {
          "base_uri": "https://localhost:8080/"
        },
        "id": "ED0OvBX9Kh9y",
        "outputId": "a6197d04-9763-465f-b684-e748f87cb91f"
      },
      "execution_count": 452,
      "outputs": [
        {
          "output_type": "stream",
          "name": "stdout",
          "text": [
            "[[15.26        6.          2.         ...  2.65643689  0.\n",
            "   3.        ]\n",
            " [16.6         6.          2.         ...  2.65643689  0.\n",
            "   2.        ]\n",
            " [14.07        6.          2.         ...  2.65643689  0.\n",
            "   3.        ]\n",
            " ...\n",
            " [10.76        6.          8.         ...  2.65643689  0.\n",
            "   0.        ]\n",
            " [11.92        6.          3.         ...  2.65643689  0.\n",
            "   0.        ]\n",
            " [12.09        6.          3.         ...  2.65643689  0.\n",
            "   0.        ]]\n",
            "[0. 0. 0. ... 1. 1. 1.]\n"
          ]
        }
      ]
    },
    {
      "cell_type": "code",
      "source": [
        "def sigmoid(z):\n",
        "    z = np.array(z)\n",
        "    g = np.zeros(z.shape)\n",
        "    g = 1 / (1 + np.exp(-z))\n",
        "    return g"
      ],
      "metadata": {
        "id": "yGATF3E0Kyta"
      },
      "execution_count": 453,
      "outputs": []
    },
    {
      "cell_type": "code",
      "source": [
        "def  featureNormalize(X):\n",
        "    X_norm = X.copy()\n",
        "    mu = np.zeros(X.shape[1])\n",
        "    sigma = np.zeros(X.shape[1])\n",
        "\n",
        "    mu = np.mean(X, axis = 0)\n",
        "    sigma = np.std(X, axis = 0)\n",
        "    print(sigma)\n",
        "    X_norm = (X - mu) / sigma\n",
        "\n",
        "    return X_norm, mu, sigma"
      ],
      "metadata": {
        "id": "SFYPCZPiK2a-"
      },
      "execution_count": 454,
      "outputs": []
    },
    {
      "cell_type": "code",
      "source": [
        "X_norm, muL, sigmaL = featureNormalize(X_train.copy())"
      ],
      "metadata": {
        "colab": {
          "base_uri": "https://localhost:8080/"
        },
        "id": "bV4YuPyAK6gr",
        "outputId": "66b4daa4-79b4-440b-e1d7-6c7ce5cbf43e"
      },
      "execution_count": 455,
      "outputs": [
        {
          "output_type": "stream",
          "name": "stdout",
          "text": [
            "[3.87458785 2.25000176 2.86241283 3.14919065 0.36832549 2.15511231\n",
            " 0.34647004 2.8817067  3.34727885 8.66856754 0.72034998 1.06142352\n",
            " 3.09135228 0.44256951 1.5921718  0.62983399 1.33373797 1.10763492]\n"
          ]
        }
      ]
    },
    {
      "cell_type": "code",
      "source": [
        "m, n = X_norm.shape\n",
        "X_norm = np.concatenate([np.ones((m, 1)), X_norm], axis=1)"
      ],
      "metadata": {
        "id": "GtzyJcBlK821"
      },
      "execution_count": 456,
      "outputs": []
    },
    {
      "cell_type": "code",
      "source": [
        "print(X_norm.shape)"
      ],
      "metadata": {
        "colab": {
          "base_uri": "https://localhost:8080/"
        },
        "id": "0FAVnBe0bgy_",
        "outputId": "5bd5a44e-5a1d-45e7-dfe6-d08b298cbea2"
      },
      "execution_count": 457,
      "outputs": [
        {
          "output_type": "stream",
          "name": "stdout",
          "text": [
            "(48856, 19)\n"
          ]
        }
      ]
    },
    {
      "cell_type": "code",
      "source": [
        "def calcularCosto(theta, X, y):\n",
        "    m = y.size\n",
        "    J = 0\n",
        "    h = sigmoid(X.dot(theta.T))\n",
        "    J = (1 / m) * np.sum(-y.dot(np.log(h)) - (1 - y).dot(np.log(1 - h)))\n",
        "\n",
        "    return J"
      ],
      "metadata": {
        "id": "uuOa043Lq7bK"
      },
      "execution_count": 458,
      "outputs": []
    },
    {
      "cell_type": "code",
      "source": [
        "def descensoGradiente(theta, X, y, alpha, num_iters):\n",
        "    m = y.shape[0]\n",
        "    theta = theta.copy()\n",
        "    J_history = []\n",
        "\n",
        "    for i in range(num_iters):\n",
        "        h = sigmoid(X.dot(theta.T))\n",
        "        theta = theta - (alpha / m) * (h - y).dot(X)\n",
        "\n",
        "        J_history.append(calcularCosto(theta, X, y))\n",
        "    return theta, J_history"
      ],
      "metadata": {
        "id": "snGzVXjVrJ6E"
      },
      "execution_count": 459,
      "outputs": []
    },
    {
      "cell_type": "code",
      "source": [
        "alpha = 0.03\n",
        "num_iters = 6000\n",
        "theta_l = np.zeros(19)\n",
        "theta_l, J_history = descensoGradiente(theta_l, X_norm , y_train,  alpha, num_iters)\n",
        "pyplot.plot(np.arange(len(J_history)), J_history, lw=2)\n",
        "pyplot.xlabel('Numero de iteraciones')\n",
        "pyplot.ylabel('Costo J')\n",
        "\n",
        "print('theta calculado por el descenso por el gradiente: {:s}'.format(str(theta_l)))"
      ],
      "metadata": {
        "colab": {
          "base_uri": "https://localhost:8080/",
          "height": 518
        },
        "id": "L32_UkicYcXc",
        "outputId": "692eabd2-d702-42a7-b2c2-bb452716e76b"
      },
      "execution_count": 460,
      "outputs": [
        {
          "output_type": "stream",
          "name": "stdout",
          "text": [
            "theta calculado por el descenso por el gradiente: [-0.30488825  0.44381461  0.17058885 -0.0276759  -0.03679536 -0.08296848\n",
            " -0.03182567  0.15193869 -0.09436562  0.10809181  0.18049692 -0.43458504\n",
            "  0.14986533  0.14402729 -0.29357591 -0.17511852  0.15083152  0.2812886\n",
            "  0.21956319]\n"
          ]
        },
        {
          "output_type": "display_data",
          "data": {
            "text/plain": [
              "<Figure size 640x480 with 1 Axes>"
            ],
            "image/png": "[encoded data removed]"
          },
          "metadata": {}
        }
      ]
    },
    {
      "cell_type": "code",
      "source": [
        "X_test_log = X_test.copy()\n",
        "m, n = X_test_log.shape\n",
        "print(X_test_log)"
      ],
      "metadata": {
        "colab": {
          "base_uri": "https://localhost:8080/"
        },
        "id": "DRCYTYptcGph",
        "outputId": "9e62ff2f-ddd2-46d9-f96e-025effb2d330"
      },
      "execution_count": 461,
      "outputs": [
        {
          "output_type": "stream",
          "name": "stdout",
          "text": [
            "[[12.09        6.          3.         ...  2.65643689  0.\n",
            "   0.        ]\n",
            " [12.91        6.          8.         ...  2.65643689  0.\n",
            "   2.        ]\n",
            " [12.63        6.          8.         ...  2.65643689  0.\n",
            "   2.        ]\n",
            " ...\n",
            " [ 1.27        5.          7.         ...  2.65643689  0.\n",
            "   2.        ]\n",
            " [ 1.24        2.          7.         ...  2.65643689  0.\n",
            "   2.        ]\n",
            " [ 1.17        5.          7.         ...  2.65643689  0.\n",
            "   2.        ]]\n"
          ]
        }
      ]
    },
    {
      "cell_type": "code",
      "source": [
        "X_test_log = np.concatenate([np.ones((m, 1)), X_test_log], axis=1)\n",
        "print(X_test_log.shape)\n",
        "print(X_test_log)"
      ],
      "metadata": {
        "colab": {
          "base_uri": "https://localhost:8080/"
        },
        "id": "IBZ90_FDcN4K",
        "outputId": "18188ca3-abbd-4caa-8b0d-b0952515537e"
      },
      "execution_count": 462,
      "outputs": [
        {
          "output_type": "stream",
          "name": "stdout",
          "text": [
            "(12214, 19)\n",
            "[[ 1.         12.09        6.         ...  2.65643689  0.\n",
            "   0.        ]\n",
            " [ 1.         12.91        6.         ...  2.65643689  0.\n",
            "   2.        ]\n",
            " [ 1.         12.63        6.         ...  2.65643689  0.\n",
            "   2.        ]\n",
            " ...\n",
            " [ 1.          1.27        5.         ...  2.65643689  0.\n",
            "   2.        ]\n",
            " [ 1.          1.24        2.         ...  2.65643689  0.\n",
            "   2.        ]\n",
            " [ 1.          1.17        5.         ...  2.65643689  0.\n",
            "   2.        ]]\n"
          ]
        }
      ]
    },
    {
      "cell_type": "code",
      "source": [
        "X_test_log[:, 1:19] = (X_test_log[:, 1:19] - muL) / sigmaL\n",
        "print(X_test_log)"
      ],
      "metadata": {
        "colab": {
          "base_uri": "https://localhost:8080/"
        },
        "id": "cEZvm2UPcRik",
        "outputId": "9019e9ac-cb0d-4a88-9bae-30500cd00476"
      },
      "execution_count": 463,
      "outputs": [
        {
          "output_type": "stream",
          "name": "stdout",
          "text": [
            "[[ 1.          1.52617314  0.9047352  ... -0.01914671 -0.53891047\n",
            "  -0.94065167]\n",
            " [ 1.          1.73780855  0.9047352  ... -0.01914671 -0.53891047\n",
            "   0.86499743]\n",
            " [ 1.          1.6655428   0.9047352  ... -0.01914671 -0.53891047\n",
            "   0.86499743]\n",
            " ...\n",
            " [ 1.         -1.26638194  0.46029111 ... -0.01914671 -0.53891047\n",
            "   0.86499743]\n",
            " [ 1.         -1.2741247  -0.87304118 ... -0.01914671 -0.53891047\n",
            "   0.86499743]\n",
            " [ 1.         -1.29219114  0.46029111 ... -0.01914671 -0.53891047\n",
            "   0.86499743]]\n"
          ]
        }
      ]
    },
    {
      "cell_type": "markdown",
      "source": [
        "La siguiente función tiene como objetivo colocar la probabilidad obteneida por la sigmoide aplicada en la hipótesis en 1 si es mayor o igual 0.4 y 0 si es menor, se decidió estos rangos por conveniencia."
      ],
      "metadata": {
        "id": "T7GNjT4BiHVb"
      }
    },
    {
      "cell_type": "code",
      "source": [
        "def predict(theta, X):\n",
        "    probabilities = sigmoid(np.dot(X, theta))\n",
        "    return [1 if x >= 0.4 else 0 for x in probabilities]"
      ],
      "metadata": {
        "id": "WjSYiJWBcU7A"
      },
      "execution_count": 464,
      "outputs": []
    },
    {
      "cell_type": "code",
      "source": [
        "pred = predict(theta_l, X_test_log)"
      ],
      "metadata": {
        "id": "KwzmtwMGcmJG"
      },
      "execution_count": 465,
      "outputs": []
    },
    {
      "cell_type": "code",
      "source": [
        "print('Precision del conjuto de entrenamiento: {:.2f}%'.format(np.mean(pred == y_test) * 100))"
      ],
      "metadata": {
        "colab": {
          "base_uri": "https://localhost:8080/"
        },
        "id": "6qSCdU-Pco28",
        "outputId": "cbd213c5-83c9-4198-a03a-dd68db943b9a"
      },
      "execution_count": 466,
      "outputs": [
        {
          "output_type": "stream",
          "name": "stdout",
          "text": [
            "Precision del conjuto de entrenamiento: 59.61%\n"
          ]
        }
      ]
    },
    {
      "cell_type": "code",
      "source": [
        "def calcularCostoRegularizado(theta, X, y,lambda_):\n",
        "    m = y.size\n",
        "    J = 0\n",
        "    grad = np.zeros(theta.shape)\n",
        "    h = sigmoid(X.dot(theta.T))\n",
        "    temp = theta.copy()\n",
        "    temp[0] = 0\n",
        "    J = (1 / m) * np.sum(-y.dot(np.log(h)) - (1 - y).dot(np.log(1 - h))) + (lambda_ / (2 * m)) * np.sum(np.square(temp))\n",
        "    grad = (1 / m) * (h - y).dot(X)\n",
        "    grad = grad + (lambda_ / m) * temp\n",
        "\n",
        "    return J, grad"
      ],
      "metadata": {
        "id": "nGaISuOOLC24"
      },
      "execution_count": 467,
      "outputs": []
    },
    {
      "cell_type": "code",
      "source": [
        "def descensoGradienteRegularizado(X, y, theta, alpha, num_iters, lambda_):\n",
        "    m = y.shape[0]\n",
        "    J_history = np.zeros(num_iters)\n",
        "\n",
        "    for i in range(num_iters):\n",
        "        grad = calcularCostoRegularizado(theta, X, y, lambda_)[1]\n",
        "        theta = theta - alpha * grad\n",
        "        J_history[i] = calcularCostoRegularizado(theta, X, y, lambda_)[0]\n",
        "\n",
        "    return theta, J_history"
      ],
      "metadata": {
        "id": "mw8aejSi1bWg"
      },
      "execution_count": 468,
      "outputs": []
    },
    {
      "cell_type": "markdown",
      "source": [],
      "metadata": {
        "id": "kxRiF_H6oval"
      }
    },
    {
      "cell_type": "code",
      "source": [
        "alpha = 0.03\n",
        "num_iters = 6000\n",
        "lambda_ = 10000\n",
        "theta_lr = np.zeros(19)\n",
        "theta_lr, J_history = descensoGradienteRegularizado( X_norm, y_train, theta_lr, alpha, num_iters, lambda_)\n",
        "pyplot.plot(np.arange(len(J_history)), J_history, lw=2)\n",
        "pyplot.xlabel('Numero de iteraciones')\n",
        "pyplot.ylabel('Costo J')\n",
        "\n",
        "print('theta calculado por el descenso por el gradiente: {:s}'.format(str(theta_lr)))"
      ],
      "metadata": {
        "colab": {
          "base_uri": "https://localhost:8080/",
          "height": 518
        },
        "id": "gMnBiC4uNpu-",
        "outputId": "69456470-f891-42fa-aafc-6147a1400d3e"
      },
      "execution_count": 469,
      "outputs": [
        {
          "output_type": "stream",
          "name": "stdout",
          "text": [
            "theta calculado por el descenso por el gradiente: [-0.29231419  0.16995505  0.07805687  0.00967552 -0.02843174 -0.03132273\n",
            "  0.0082131   0.07613049 -0.00169968  0.04042247  0.16073585 -0.17296272\n",
            "  0.03971222  0.05885137 -0.08412672 -0.11458273  0.08659649  0.10874899\n",
            "  0.11247145]\n"
          ]
        },
        {
          "output_type": "display_data",
          "data": {
            "text/plain": [
              "<Figure size 640x480 with 1 Axes>"
            ],
            "image/png": "[encoded data removed]"
          },
          "metadata": {}
        }
      ]
    },
    {
      "cell_type": "markdown",
      "source": [],
      "metadata": {
        "id": "ANRgfetw-nNx"
      }
    },
    {
      "cell_type": "code",
      "source": [
        "pred = predict(theta_lr, X_test_log)"
      ],
      "metadata": {
        "id": "4nS00lpNyK8n"
      },
      "execution_count": 470,
      "outputs": []
    },
    {
      "cell_type": "code",
      "source": [
        "print('Precision del conjuto de entrenamiento: {:.2f}%'.format(np.mean(pred == y_test) * 100))"
      ],
      "metadata": {
        "colab": {
          "base_uri": "https://localhost:8080/"
        },
        "id": "mSX3FVbEyaFK",
        "outputId": "b6920e13-61a6-4198-9f9b-b95865ba474e"
      },
      "execution_count": 471,
      "outputs": [
        {
          "output_type": "stream",
          "name": "stdout",
          "text": [
            "Precision del conjuto de entrenamiento: 61.47%\n"
          ]
        }
      ]
    }
  ]
}